{
 "cells": [
  {
   "cell_type": "markdown",
   "metadata": {
    "id": "GNIwe5N7s0e_"
   },
   "source": [
    "# Real-world Data Wrangling"
   ]
  },
  {
   "cell_type": "markdown",
   "metadata": {
    "id": "LbN7z7rcuqpO"
   },
   "source": [
    "This project investigates global air pollution trends with a focus on identifying the most affected countries, assessing the impact of the COVID-19 pandemic on pollution levels, and evaluating how air quality has evolved over time. By analyzing PM2.5 concentration data from multiple years and regions, the study addresses three primary questions:\n",
    "\n",
    "Which countries were the most polluted during the observed period?\n",
    "\n",
    "Was there a significant drop in air pollution in 2020, potentially due to COVID-19 lockdowns?\n",
    "\n",
    "Which countries experienced the greatest improvement or deterioration in air quality between 2018 and 2021?"
   ]
  },
  {
   "cell_type": "markdown",
   "metadata": {},
   "source": [
    " PM2.5 is a major component of air pollution and smog — often produced by vehicle emissions, industrial activity, wildfires, and fossil fuel burning.\n",
    " It’s one of the key indicators used by the World Health Organization and environmental agencies to assess air quality."
   ]
  },
  {
   "cell_type": "markdown",
   "metadata": {
    "id": "8AQfBAdUypMm"
   },
   "source": [
    "### **1.2.** Gather at least two datasets using two different data gathering methods\n",
    "\n",
    "List of data gathering methods:\n",
    "\n",
    "- Download data manually\n",
    "- Programmatically downloading files\n",
    "- Gather data by accessing APIs\n",
    "- Gather and extract data from HTML files using BeautifulSoup\n",
    "- Extract data from a SQL database\n",
    "\n",
    "Each dataset must have at least two variables, and have greater than 500 data samples within each dataset.\n",
    "\n",
    "For each dataset, briefly describe why you picked the dataset and the gathering method (2-3 full sentences), including the names and significance of the variables in the dataset. Show your work (e.g., if using an API to download the data, please include a snippet of your code). \n",
    "\n",
    "Load the dataset programmtically into this notebook."
   ]
  },
  {
   "cell_type": "code",
   "execution_count": 169,
   "metadata": {},
   "outputs": [
    {
     "name": "stdout",
     "output_type": "stream",
     "text": [
      "Requirement already satisfied: pymongo in c:\\users\\asus\\appdata\\local\\programs\\python\\python312\\lib\\site-packages (4.13.0)\n",
      "Requirement already satisfied: dnspython<3.0.0,>=1.16.0 in c:\\users\\asus\\appdata\\local\\programs\\python\\python312\\lib\\site-packages (from pymongo) (2.7.0)\n",
      "Note: you may need to restart the kernel to use updated packages.\n"
     ]
    },
    {
     "name": "stderr",
     "output_type": "stream",
     "text": [
      "\n",
      "[notice] A new release of pip is available: 24.3.1 -> 25.1.1\n",
      "[notice] To update, run: python.exe -m pip install --upgrade pip\n"
     ]
    }
   ],
   "source": [
    "%pip install pymongo\n",
    "import pandas as pd\n",
    "import kagglehub\n",
    "from kagglehub import KaggleDatasetAdapter\n",
    "import os\n",
    "import seaborn as sns\n",
    "import matplotlib.pyplot as plt\n",
    "import numpy as np\n",
    "import pymongo\n",
    "from pymongo import MongoClient\n",
    "import json"
   ]
  },
  {
   "cell_type": "markdown",
   "metadata": {
    "id": "7e6gS0wL1KTu"
   },
   "source": [
    "#### **Dataset 1**\n",
    "\n",
    "Type: CSV File.\n",
    "\n",
    "Method: The data was gathered using the \"Downloading files\" method from Kaggle.\n",
    "\n",
    "Dataset variables:\n",
    "\n",
    "Rank         \n",
    "City         \n",
    "2021         \n",
    "JAN(2021)    \n",
    "FEB(2021)    \n",
    "MAR(2021)    \n",
    "APR(2021)    \n",
    "MAY(2021)    \n",
    "JUN(2021)    \n",
    "JUL(2021)    \n",
    "AUG(2021)    \n",
    "SEP(2021)    \n",
    "OCT(2021)    \n",
    "NOV(2021)    \n",
    "DEC(2021)    \n",
    "2020         \n",
    "2019         \n",
    "2018         \n",
    "2017         "
   ]
  },
  {
   "cell_type": "code",
   "execution_count": 170,
   "metadata": {
    "id": "Su8E0uLuYkHU"
   },
   "outputs": [
    {
     "data": {
      "text/html": [
       "<div>\n",
       "<style scoped>\n",
       "    .dataframe tbody tr th:only-of-type {\n",
       "        vertical-align: middle;\n",
       "    }\n",
       "\n",
       "    .dataframe tbody tr th {\n",
       "        vertical-align: top;\n",
       "    }\n",
       "\n",
       "    .dataframe thead th {\n",
       "        text-align: right;\n",
       "    }\n",
       "</style>\n",
       "<table border=\"1\" class=\"dataframe\">\n",
       "  <thead>\n",
       "    <tr style=\"text-align: right;\">\n",
       "      <th></th>\n",
       "      <th>Rank</th>\n",
       "      <th>City</th>\n",
       "      <th>2021</th>\n",
       "      <th>JAN(2021)</th>\n",
       "      <th>FEB(2021)</th>\n",
       "      <th>MAR(2021)</th>\n",
       "      <th>APR(2021)</th>\n",
       "      <th>MAY(2021)</th>\n",
       "      <th>JUN(2021)</th>\n",
       "      <th>JUL(2021)</th>\n",
       "      <th>AUG(2021)</th>\n",
       "      <th>SEP(2021)</th>\n",
       "      <th>OCT(2021)</th>\n",
       "      <th>NOV(2021)</th>\n",
       "      <th>DEC(2021)</th>\n",
       "      <th>2020</th>\n",
       "      <th>2019</th>\n",
       "      <th>2018</th>\n",
       "      <th>2017</th>\n",
       "    </tr>\n",
       "  </thead>\n",
       "  <tbody>\n",
       "    <tr>\n",
       "      <th>0</th>\n",
       "      <td>1</td>\n",
       "      <td>Bhiwadi, India</td>\n",
       "      <td>106.2</td>\n",
       "      <td>145.8</td>\n",
       "      <td>129.8</td>\n",
       "      <td>120.2</td>\n",
       "      <td>125.7</td>\n",
       "      <td>86.5</td>\n",
       "      <td>95.9</td>\n",
       "      <td>55.6</td>\n",
       "      <td>55.4</td>\n",
       "      <td>37.1</td>\n",
       "      <td>91.1</td>\n",
       "      <td>188.6</td>\n",
       "      <td>136.6</td>\n",
       "      <td>95.5</td>\n",
       "      <td>83.4</td>\n",
       "      <td>125.4</td>\n",
       "      <td>NaN</td>\n",
       "    </tr>\n",
       "    <tr>\n",
       "      <th>1</th>\n",
       "      <td>2</td>\n",
       "      <td>Ghaziabad, India</td>\n",
       "      <td>102.0</td>\n",
       "      <td>199.9</td>\n",
       "      <td>172.2</td>\n",
       "      <td>97.8</td>\n",
       "      <td>86.3</td>\n",
       "      <td>52.9</td>\n",
       "      <td>47.2</td>\n",
       "      <td>35.3</td>\n",
       "      <td>37.6</td>\n",
       "      <td>30.8</td>\n",
       "      <td>89.7</td>\n",
       "      <td>218.3</td>\n",
       "      <td>163</td>\n",
       "      <td>106.6</td>\n",
       "      <td>110.2</td>\n",
       "      <td>135.2</td>\n",
       "      <td>144.6</td>\n",
       "    </tr>\n",
       "    <tr>\n",
       "      <th>2</th>\n",
       "      <td>3</td>\n",
       "      <td>Hotan, China</td>\n",
       "      <td>101.5</td>\n",
       "      <td>NaN</td>\n",
       "      <td>NaN</td>\n",
       "      <td>158</td>\n",
       "      <td>91.1</td>\n",
       "      <td>167.4</td>\n",
       "      <td>57.4</td>\n",
       "      <td>70.9</td>\n",
       "      <td>93.2</td>\n",
       "      <td>79.3</td>\n",
       "      <td>126.1</td>\n",
       "      <td>111.5</td>\n",
       "      <td>62.6</td>\n",
       "      <td>110.2</td>\n",
       "      <td>110.1</td>\n",
       "      <td>116</td>\n",
       "      <td>91.9</td>\n",
       "    </tr>\n",
       "    <tr>\n",
       "      <th>3</th>\n",
       "      <td>4</td>\n",
       "      <td>Delhi, India</td>\n",
       "      <td>96.4</td>\n",
       "      <td>183.7</td>\n",
       "      <td>142.2</td>\n",
       "      <td>80.5</td>\n",
       "      <td>72.9</td>\n",
       "      <td>47.4</td>\n",
       "      <td>47.1</td>\n",
       "      <td>35.6</td>\n",
       "      <td>36.9</td>\n",
       "      <td>30.2</td>\n",
       "      <td>73.7</td>\n",
       "      <td>224.1</td>\n",
       "      <td>186.4</td>\n",
       "      <td>84.1</td>\n",
       "      <td>98.6</td>\n",
       "      <td>113.5</td>\n",
       "      <td>108.2</td>\n",
       "    </tr>\n",
       "    <tr>\n",
       "      <th>4</th>\n",
       "      <td>5</td>\n",
       "      <td>Jaunpur, India</td>\n",
       "      <td>95.3</td>\n",
       "      <td>182.2</td>\n",
       "      <td>143.5</td>\n",
       "      <td>91</td>\n",
       "      <td>70</td>\n",
       "      <td>51.1</td>\n",
       "      <td>40.7</td>\n",
       "      <td>33.5</td>\n",
       "      <td>34.2</td>\n",
       "      <td>36.8</td>\n",
       "      <td>75.7</td>\n",
       "      <td>196</td>\n",
       "      <td>195.7</td>\n",
       "      <td>NaN</td>\n",
       "      <td>NaN</td>\n",
       "      <td>NaN</td>\n",
       "      <td>NaN</td>\n",
       "    </tr>\n",
       "    <tr>\n",
       "      <th>...</th>\n",
       "      <td>...</td>\n",
       "      <td>...</td>\n",
       "      <td>...</td>\n",
       "      <td>...</td>\n",
       "      <td>...</td>\n",
       "      <td>...</td>\n",
       "      <td>...</td>\n",
       "      <td>...</td>\n",
       "      <td>...</td>\n",
       "      <td>...</td>\n",
       "      <td>...</td>\n",
       "      <td>...</td>\n",
       "      <td>...</td>\n",
       "      <td>...</td>\n",
       "      <td>...</td>\n",
       "      <td>...</td>\n",
       "      <td>...</td>\n",
       "      <td>...</td>\n",
       "      <td>...</td>\n",
       "    </tr>\n",
       "    <tr>\n",
       "      <th>6470</th>\n",
       "      <td>6471</td>\n",
       "      <td>Mornington, Australia</td>\n",
       "      <td>2.4</td>\n",
       "      <td>2</td>\n",
       "      <td>1.9</td>\n",
       "      <td>2.3</td>\n",
       "      <td>2.1</td>\n",
       "      <td>3.2</td>\n",
       "      <td>3.6</td>\n",
       "      <td>4.3</td>\n",
       "      <td>2.1</td>\n",
       "      <td>2.1</td>\n",
       "      <td>1.7</td>\n",
       "      <td>2</td>\n",
       "      <td>1.9</td>\n",
       "      <td>3.2</td>\n",
       "      <td>3.8</td>\n",
       "      <td>3</td>\n",
       "      <td>3.9</td>\n",
       "    </tr>\n",
       "    <tr>\n",
       "      <th>6471</th>\n",
       "      <td>6472</td>\n",
       "      <td>Emu River, Australia</td>\n",
       "      <td>2.1</td>\n",
       "      <td>1.9</td>\n",
       "      <td>1.8</td>\n",
       "      <td>2</td>\n",
       "      <td>2.6</td>\n",
       "      <td>3.4</td>\n",
       "      <td>2.6</td>\n",
       "      <td>1.9</td>\n",
       "      <td>2.1</td>\n",
       "      <td>2.2</td>\n",
       "      <td>1.5</td>\n",
       "      <td>1.4</td>\n",
       "      <td>1.5</td>\n",
       "      <td>2.6</td>\n",
       "      <td>2.5</td>\n",
       "      <td>2.6</td>\n",
       "      <td>2.3</td>\n",
       "    </tr>\n",
       "    <tr>\n",
       "      <th>6472</th>\n",
       "      <td>6473</td>\n",
       "      <td>Judbury, Australia</td>\n",
       "      <td>2.0</td>\n",
       "      <td>1.6</td>\n",
       "      <td>1.5</td>\n",
       "      <td>2.1</td>\n",
       "      <td>1.5</td>\n",
       "      <td>4.1</td>\n",
       "      <td>2</td>\n",
       "      <td>2.2</td>\n",
       "      <td>2.2</td>\n",
       "      <td>1.7</td>\n",
       "      <td>1.5</td>\n",
       "      <td>1.4</td>\n",
       "      <td>1.7</td>\n",
       "      <td>2.4</td>\n",
       "      <td>5.7</td>\n",
       "      <td>2.2</td>\n",
       "      <td>1.9</td>\n",
       "    </tr>\n",
       "    <tr>\n",
       "      <th>6473</th>\n",
       "      <td>6474</td>\n",
       "      <td>St Helens, Australia</td>\n",
       "      <td>1.9</td>\n",
       "      <td>1.8</td>\n",
       "      <td>2.1</td>\n",
       "      <td>2</td>\n",
       "      <td>2.4</td>\n",
       "      <td>2.7</td>\n",
       "      <td>1.6</td>\n",
       "      <td>1.6</td>\n",
       "      <td>1.6</td>\n",
       "      <td>1.9</td>\n",
       "      <td>1.6</td>\n",
       "      <td>2.4</td>\n",
       "      <td>1.6</td>\n",
       "      <td>2.4</td>\n",
       "      <td>2.4</td>\n",
       "      <td>2.9</td>\n",
       "      <td>3.3</td>\n",
       "    </tr>\n",
       "    <tr>\n",
       "      <th>6474</th>\n",
       "      <td>6475</td>\n",
       "      <td>Chu, Kazakhstan</td>\n",
       "      <td>1.5</td>\n",
       "      <td>1.5</td>\n",
       "      <td>1.6</td>\n",
       "      <td>1.6</td>\n",
       "      <td>1.5</td>\n",
       "      <td>1.5</td>\n",
       "      <td>1.5</td>\n",
       "      <td>1.5</td>\n",
       "      <td>1.6</td>\n",
       "      <td>1.5</td>\n",
       "      <td>1.5</td>\n",
       "      <td>1.5</td>\n",
       "      <td>1.5</td>\n",
       "      <td>NaN</td>\n",
       "      <td>NaN</td>\n",
       "      <td>NaN</td>\n",
       "      <td>NaN</td>\n",
       "    </tr>\n",
       "  </tbody>\n",
       "</table>\n",
       "<p>6475 rows × 19 columns</p>\n",
       "</div>"
      ],
      "text/plain": [
       "      Rank                   City   2021 JAN(2021) FEB(2021) MAR(2021)  \\\n",
       "0        1         Bhiwadi, India  106.2     145.8     129.8     120.2   \n",
       "1        2       Ghaziabad, India  102.0     199.9     172.2      97.8   \n",
       "2        3           Hotan, China  101.5       NaN       NaN       158   \n",
       "3        4           Delhi, India   96.4     183.7     142.2      80.5   \n",
       "4        5         Jaunpur, India   95.3     182.2     143.5        91   \n",
       "...    ...                    ...    ...       ...       ...       ...   \n",
       "6470  6471  Mornington, Australia    2.4         2       1.9       2.3   \n",
       "6471  6472   Emu River, Australia    2.1       1.9       1.8         2   \n",
       "6472  6473     Judbury, Australia    2.0       1.6       1.5       2.1   \n",
       "6473  6474   St Helens, Australia    1.9       1.8       2.1         2   \n",
       "6474  6475        Chu, Kazakhstan    1.5       1.5       1.6       1.6   \n",
       "\n",
       "     APR(2021) MAY(2021) JUN(2021) JUL(2021) AUG(2021) SEP(2021) OCT(2021)  \\\n",
       "0        125.7      86.5      95.9      55.6      55.4      37.1      91.1   \n",
       "1         86.3      52.9      47.2      35.3      37.6      30.8      89.7   \n",
       "2         91.1     167.4      57.4      70.9      93.2      79.3     126.1   \n",
       "3         72.9      47.4      47.1      35.6      36.9      30.2      73.7   \n",
       "4           70      51.1      40.7      33.5      34.2      36.8      75.7   \n",
       "...        ...       ...       ...       ...       ...       ...       ...   \n",
       "6470       2.1       3.2       3.6       4.3       2.1       2.1       1.7   \n",
       "6471       2.6       3.4       2.6       1.9       2.1       2.2       1.5   \n",
       "6472       1.5       4.1         2       2.2       2.2       1.7       1.5   \n",
       "6473       2.4       2.7       1.6       1.6       1.6       1.9       1.6   \n",
       "6474       1.5       1.5       1.5       1.5       1.6       1.5       1.5   \n",
       "\n",
       "     NOV(2021) DEC(2021)   2020   2019   2018   2017  \n",
       "0        188.6     136.6   95.5   83.4  125.4    NaN  \n",
       "1        218.3       163  106.6  110.2  135.2  144.6  \n",
       "2        111.5      62.6  110.2  110.1    116   91.9  \n",
       "3        224.1     186.4   84.1   98.6  113.5  108.2  \n",
       "4          196     195.7    NaN    NaN    NaN    NaN  \n",
       "...        ...       ...    ...    ...    ...    ...  \n",
       "6470         2       1.9    3.2    3.8      3    3.9  \n",
       "6471       1.4       1.5    2.6    2.5    2.6    2.3  \n",
       "6472       1.4       1.7    2.4    5.7    2.2    1.9  \n",
       "6473       2.4       1.6    2.4    2.4    2.9    3.3  \n",
       "6474       1.5       1.5    NaN    NaN    NaN    NaN  \n",
       "\n",
       "[6475 rows x 19 columns]"
      ]
     },
     "execution_count": 170,
     "metadata": {},
     "output_type": "execute_result"
    }
   ],
   "source": [
    "#Loading data locally\n",
    "data=pd.read_csv(r\"C:\\Users\\asus\\Downloads\\AIR QUALITY INDEX (by cities) - IQAir.csv\")\n",
    "data.replace('-', np.nan, inplace=True)\n",
    "data\n"
   ]
  },
  {
   "cell_type": "markdown",
   "metadata": {
    "id": "hoUjq1tPzz7P"
   },
   "source": [
    "#### Dataset 2\n",
    "\n",
    "Type: CSV File.\n",
    "\n",
    "Method:  The data was gathered using the API method from Kaggle.\n",
    "\n",
    "Dataset variables:\n",
    "\n",
    "Rank              \n",
    "Country/Region    \n",
    "2021              \n",
    "2020              \n",
    "2019              \n",
    "2018              \n",
    "Population  "
   ]
  },
  {
   "cell_type": "code",
   "execution_count": 171,
   "metadata": {
    "id": "6zT0QxRyYmm7"
   },
   "outputs": [
    {
     "name": "stderr",
     "output_type": "stream",
     "text": [
      "C:\\Users\\asus\\AppData\\Local\\Temp\\ipykernel_5256\\865147818.py:6: DeprecationWarning: load_dataset is deprecated and will be removed in a future version.\n",
      "  dataa = kagglehub.load_dataset(\n"
     ]
    },
    {
     "name": "stdout",
     "output_type": "stream",
     "text": [
      "First 5 records:\n",
      "   Rank Country/Region  2021  2020  2019  2018     Population\n",
      "0     1     Bangladesh  76.9  77.1  83.3  97.1    164,689,383\n",
      "1     2           Chad  75.9     -     -     -     16,425,859\n",
      "2     3       Pakistan  66.8    59  65.8  74.3    220,892,331\n",
      "3     4     Tajikistan  59.4  30.9     -     -      9,537,642\n",
      "4     5          India  58.1  51.9  58.1  72.5  1,380,004,385\n",
      "\n",
      "Dataset saved to: C:\\Users\\asus\\Desktop\\polluted_cities.csv\n"
     ]
    }
   ],
   "source": [
    "#Loading dataset 2 using api\n",
    "os.makedirs(os.path.expanduser(\"~/.cache/kagglehub\"), exist_ok=True)\n",
    "\n",
    "file_path = \"AIR QUALITY INDEX- top countries.csv\"\n",
    "\n",
    "dataa = kagglehub.load_dataset(\n",
    "    KaggleDatasetAdapter.PANDAS,\n",
    "    \n",
    "    \"ramjasmaurya/most-polluted-cities-and-countries-iqair-index\",\n",
    "    file_path\n",
    ")\n",
    "\n",
    "print(\"First 5 records:\")\n",
    "print(dataa.head())\n",
    "dataa.replace('-', np.nan, inplace=True)\n",
    "\n",
    "desktop_path = os.path.join(os.path.expanduser(\"~\"), \"Desktop\", \"polluted_cities.csv\")\n",
    "dataa.to_csv(desktop_path, index=False)\n",
    "print(f\"\\nDataset saved to: {desktop_path}\")\n"
   ]
  },
  {
   "cell_type": "markdown",
   "metadata": {
    "id": "QwSWIVmotLgV"
   },
   "source": [
    "## 2. Assess data\n",
    "\n",
    "Assess the data according to data quality and tidiness metrics using the report below.\n",
    "\n",
    "List **two** data quality issues and **two** tidiness issues. Assess each data issue visually **and** programmatically, then briefly describe the issue you find.  **Make sure you include justifications for the methods you use for the assessment.**"
   ]
  },
  {
   "cell_type": "markdown",
   "metadata": {
    "id": "adaK2iPNzVu4"
   },
   "source": [
    "### Quality Issue 1:"
   ]
  },
  {
   "cell_type": "code",
   "execution_count": 172,
   "metadata": {},
   "outputs": [
    {
     "data": {
      "image/png": "[encoded data removed]",
      "text/plain": [
       "<Figure size 1200x600 with 1 Axes>"
      ]
     },
     "metadata": {},
     "output_type": "display_data"
    }
   ],
   "source": [
    "\n",
    "plt.figure(figsize=(12, 6))\n",
    "sns.heatmap(data.isnull(), cbar=False, cmap='viridis')\n",
    "plt.title(\"Missing Values Heatmap\")\n",
    "plt.show()\n"
   ]
  },
  {
   "cell_type": "code",
   "execution_count": 173,
   "metadata": {
    "id": "-qfcocStzsKg"
   },
   "outputs": [
    {
     "name": "stdout",
     "output_type": "stream",
     "text": [
      "Rank            0\n",
      "City            0\n",
      "2021            0\n",
      "JAN(2021)     671\n",
      "FEB(2021)     574\n",
      "MAR(2021)     193\n",
      "APR(2021)     256\n",
      "MAY(2021)      16\n",
      "JUN(2021)      16\n",
      "JUL(2021)      22\n",
      "AUG(2021)       9\n",
      "SEP(2021)      17\n",
      "OCT(2021)      26\n",
      "NOV(2021)      43\n",
      "DEC(2021)      87\n",
      "2020         2207\n",
      "2019         2422\n",
      "2018         3999\n",
      "2017         4194\n",
      "dtype: int64\n",
      "--------------------------\n",
      "Rank               0\n",
      "Country/Region     0\n",
      "2021               0\n",
      "2020              17\n",
      "2019              27\n",
      "2018              46\n",
      "Population         0\n",
      "dtype: int64\n"
     ]
    }
   ],
   "source": [
    "print(data.isnull().sum())\n",
    "print(\"--------------------------\")\n",
    "print(dataa.isnull().sum())"
   ]
  },
  {
   "cell_type": "markdown",
   "metadata": {},
   "source": [
    "there are some Missing vaules "
   ]
  },
  {
   "cell_type": "markdown",
   "metadata": {
    "id": "8Be77N4I1AmE"
   },
   "source": [
    "### Quality Issue 2:"
   ]
  },
  {
   "cell_type": "code",
   "execution_count": 174,
   "metadata": {
    "id": "bnviRCUI-bb7"
   },
   "outputs": [
    {
     "name": "stdout",
     "output_type": "stream",
     "text": [
      "0\n",
      "0\n"
     ]
    }
   ],
   "source": [
    "print(data.duplicated().sum())\n",
    "print(dataa.duplicated().sum())"
   ]
  },
  {
   "cell_type": "markdown",
   "metadata": {},
   "source": [
    "no duplicates found"
   ]
  },
  {
   "cell_type": "code",
   "execution_count": 175,
   "metadata": {},
   "outputs": [
    {
     "name": "stdout",
     "output_type": "stream",
     "text": [
      "Rank           int64\n",
      "City          object\n",
      "2021         float64\n",
      "JAN(2021)     object\n",
      "FEB(2021)     object\n",
      "MAR(2021)     object\n",
      "APR(2021)     object\n",
      "MAY(2021)     object\n",
      "JUN(2021)     object\n",
      "JUL(2021)     object\n",
      "AUG(2021)     object\n",
      "SEP(2021)     object\n",
      "OCT(2021)     object\n",
      "NOV(2021)     object\n",
      "DEC(2021)     object\n",
      "2020          object\n",
      "2019          object\n",
      "2018          object\n",
      "2017          object\n",
      "dtype: object\n",
      "--------------------------\n",
      "Rank                int64\n",
      "Country/Region     object\n",
      "2021              float64\n",
      "2020               object\n",
      "2019               object\n",
      "2018               object\n",
      "Population         object\n",
      "dtype: object\n"
     ]
    }
   ],
   "source": [
    "print(data.dtypes)\n",
    "print(\"--------------------------\")\n",
    "print(dataa.dtypes)"
   ]
  },
  {
   "cell_type": "markdown",
   "metadata": {},
   "source": [
    "Wrong data types are used here we need to convert obj->float"
   ]
  },
  {
   "cell_type": "markdown",
   "metadata": {
    "id": "lXhGiYyiwwKN"
   },
   "source": [
    "### Tidiness Issue 1:"
   ]
  },
  {
   "cell_type": "markdown",
   "metadata": {},
   "source": [
    "Dash '-' used instead of Missing Value been identified earlier and solved beacuase it was needed to identify missing values\n",
    "\n",
    "the justification is that we cant really deal with missing values or deal with any of the empty values while filled with '-'\n",
    "\n",
    "\n",
    "other issues will be dealt with now "
   ]
  },
  {
   "cell_type": "code",
   "execution_count": 176,
   "metadata": {
    "id": "fleC5rORI0Xl"
   },
   "outputs": [
    {
     "data": {
      "text/html": [
       "<div>\n",
       "<style scoped>\n",
       "    .dataframe tbody tr th:only-of-type {\n",
       "        vertical-align: middle;\n",
       "    }\n",
       "\n",
       "    .dataframe tbody tr th {\n",
       "        vertical-align: top;\n",
       "    }\n",
       "\n",
       "    .dataframe thead th {\n",
       "        text-align: right;\n",
       "    }\n",
       "</style>\n",
       "<table border=\"1\" class=\"dataframe\">\n",
       "  <thead>\n",
       "    <tr style=\"text-align: right;\">\n",
       "      <th></th>\n",
       "      <th>Rank</th>\n",
       "      <th>City</th>\n",
       "      <th>2021</th>\n",
       "      <th>JAN(2021)</th>\n",
       "      <th>FEB(2021)</th>\n",
       "      <th>MAR(2021)</th>\n",
       "      <th>APR(2021)</th>\n",
       "      <th>MAY(2021)</th>\n",
       "      <th>JUN(2021)</th>\n",
       "      <th>JUL(2021)</th>\n",
       "      <th>AUG(2021)</th>\n",
       "      <th>SEP(2021)</th>\n",
       "      <th>OCT(2021)</th>\n",
       "      <th>NOV(2021)</th>\n",
       "      <th>DEC(2021)</th>\n",
       "      <th>2020</th>\n",
       "      <th>2019</th>\n",
       "      <th>2018</th>\n",
       "      <th>2017</th>\n",
       "    </tr>\n",
       "  </thead>\n",
       "  <tbody>\n",
       "    <tr>\n",
       "      <th>0</th>\n",
       "      <td>1</td>\n",
       "      <td>Bhiwadi, India</td>\n",
       "      <td>106.2</td>\n",
       "      <td>145.8</td>\n",
       "      <td>129.8</td>\n",
       "      <td>120.2</td>\n",
       "      <td>125.7</td>\n",
       "      <td>86.5</td>\n",
       "      <td>95.9</td>\n",
       "      <td>55.6</td>\n",
       "      <td>55.4</td>\n",
       "      <td>37.1</td>\n",
       "      <td>91.1</td>\n",
       "      <td>188.6</td>\n",
       "      <td>136.6</td>\n",
       "      <td>95.5</td>\n",
       "      <td>83.4</td>\n",
       "      <td>125.4</td>\n",
       "      <td>NaN</td>\n",
       "    </tr>\n",
       "    <tr>\n",
       "      <th>1</th>\n",
       "      <td>2</td>\n",
       "      <td>Ghaziabad, India</td>\n",
       "      <td>102.0</td>\n",
       "      <td>199.9</td>\n",
       "      <td>172.2</td>\n",
       "      <td>97.8</td>\n",
       "      <td>86.3</td>\n",
       "      <td>52.9</td>\n",
       "      <td>47.2</td>\n",
       "      <td>35.3</td>\n",
       "      <td>37.6</td>\n",
       "      <td>30.8</td>\n",
       "      <td>89.7</td>\n",
       "      <td>218.3</td>\n",
       "      <td>163</td>\n",
       "      <td>106.6</td>\n",
       "      <td>110.2</td>\n",
       "      <td>135.2</td>\n",
       "      <td>144.6</td>\n",
       "    </tr>\n",
       "    <tr>\n",
       "      <th>2</th>\n",
       "      <td>3</td>\n",
       "      <td>Hotan, China</td>\n",
       "      <td>101.5</td>\n",
       "      <td>NaN</td>\n",
       "      <td>NaN</td>\n",
       "      <td>158</td>\n",
       "      <td>91.1</td>\n",
       "      <td>167.4</td>\n",
       "      <td>57.4</td>\n",
       "      <td>70.9</td>\n",
       "      <td>93.2</td>\n",
       "      <td>79.3</td>\n",
       "      <td>126.1</td>\n",
       "      <td>111.5</td>\n",
       "      <td>62.6</td>\n",
       "      <td>110.2</td>\n",
       "      <td>110.1</td>\n",
       "      <td>116</td>\n",
       "      <td>91.9</td>\n",
       "    </tr>\n",
       "    <tr>\n",
       "      <th>3</th>\n",
       "      <td>4</td>\n",
       "      <td>Delhi, India</td>\n",
       "      <td>96.4</td>\n",
       "      <td>183.7</td>\n",
       "      <td>142.2</td>\n",
       "      <td>80.5</td>\n",
       "      <td>72.9</td>\n",
       "      <td>47.4</td>\n",
       "      <td>47.1</td>\n",
       "      <td>35.6</td>\n",
       "      <td>36.9</td>\n",
       "      <td>30.2</td>\n",
       "      <td>73.7</td>\n",
       "      <td>224.1</td>\n",
       "      <td>186.4</td>\n",
       "      <td>84.1</td>\n",
       "      <td>98.6</td>\n",
       "      <td>113.5</td>\n",
       "      <td>108.2</td>\n",
       "    </tr>\n",
       "    <tr>\n",
       "      <th>4</th>\n",
       "      <td>5</td>\n",
       "      <td>Jaunpur, India</td>\n",
       "      <td>95.3</td>\n",
       "      <td>182.2</td>\n",
       "      <td>143.5</td>\n",
       "      <td>91</td>\n",
       "      <td>70</td>\n",
       "      <td>51.1</td>\n",
       "      <td>40.7</td>\n",
       "      <td>33.5</td>\n",
       "      <td>34.2</td>\n",
       "      <td>36.8</td>\n",
       "      <td>75.7</td>\n",
       "      <td>196</td>\n",
       "      <td>195.7</td>\n",
       "      <td>NaN</td>\n",
       "      <td>NaN</td>\n",
       "      <td>NaN</td>\n",
       "      <td>NaN</td>\n",
       "    </tr>\n",
       "  </tbody>\n",
       "</table>\n",
       "</div>"
      ],
      "text/plain": [
       "   Rank              City   2021 JAN(2021) FEB(2021) MAR(2021) APR(2021)  \\\n",
       "0     1    Bhiwadi, India  106.2     145.8     129.8     120.2     125.7   \n",
       "1     2  Ghaziabad, India  102.0     199.9     172.2      97.8      86.3   \n",
       "2     3      Hotan, China  101.5       NaN       NaN       158      91.1   \n",
       "3     4      Delhi, India   96.4     183.7     142.2      80.5      72.9   \n",
       "4     5    Jaunpur, India   95.3     182.2     143.5        91        70   \n",
       "\n",
       "  MAY(2021) JUN(2021) JUL(2021) AUG(2021) SEP(2021) OCT(2021) NOV(2021)  \\\n",
       "0      86.5      95.9      55.6      55.4      37.1      91.1     188.6   \n",
       "1      52.9      47.2      35.3      37.6      30.8      89.7     218.3   \n",
       "2     167.4      57.4      70.9      93.2      79.3     126.1     111.5   \n",
       "3      47.4      47.1      35.6      36.9      30.2      73.7     224.1   \n",
       "4      51.1      40.7      33.5      34.2      36.8      75.7       196   \n",
       "\n",
       "  DEC(2021)   2020   2019   2018   2017  \n",
       "0     136.6   95.5   83.4  125.4    NaN  \n",
       "1       163  106.6  110.2  135.2  144.6  \n",
       "2      62.6  110.2  110.1    116   91.9  \n",
       "3     186.4   84.1   98.6  113.5  108.2  \n",
       "4     195.7    NaN    NaN    NaN    NaN  "
      ]
     },
     "execution_count": 176,
     "metadata": {},
     "output_type": "execute_result"
    }
   ],
   "source": [
    "#FILL IN - Inspecting the dataframe visually\n",
    "data.head()\n"
   ]
  },
  {
   "cell_type": "code",
   "execution_count": 177,
   "metadata": {},
   "outputs": [
    {
     "data": {
      "text/html": [
       "<div>\n",
       "<style scoped>\n",
       "    .dataframe tbody tr th:only-of-type {\n",
       "        vertical-align: middle;\n",
       "    }\n",
       "\n",
       "    .dataframe tbody tr th {\n",
       "        vertical-align: top;\n",
       "    }\n",
       "\n",
       "    .dataframe thead th {\n",
       "        text-align: right;\n",
       "    }\n",
       "</style>\n",
       "<table border=\"1\" class=\"dataframe\">\n",
       "  <thead>\n",
       "    <tr style=\"text-align: right;\">\n",
       "      <th></th>\n",
       "      <th>Rank</th>\n",
       "      <th>Country/Region</th>\n",
       "      <th>2021</th>\n",
       "      <th>2020</th>\n",
       "      <th>2019</th>\n",
       "      <th>2018</th>\n",
       "      <th>Population</th>\n",
       "    </tr>\n",
       "  </thead>\n",
       "  <tbody>\n",
       "    <tr>\n",
       "      <th>0</th>\n",
       "      <td>1</td>\n",
       "      <td>Bangladesh</td>\n",
       "      <td>76.9</td>\n",
       "      <td>77.1</td>\n",
       "      <td>83.3</td>\n",
       "      <td>97.1</td>\n",
       "      <td>164,689,383</td>\n",
       "    </tr>\n",
       "    <tr>\n",
       "      <th>1</th>\n",
       "      <td>2</td>\n",
       "      <td>Chad</td>\n",
       "      <td>75.9</td>\n",
       "      <td>NaN</td>\n",
       "      <td>NaN</td>\n",
       "      <td>NaN</td>\n",
       "      <td>16,425,859</td>\n",
       "    </tr>\n",
       "    <tr>\n",
       "      <th>2</th>\n",
       "      <td>3</td>\n",
       "      <td>Pakistan</td>\n",
       "      <td>66.8</td>\n",
       "      <td>59</td>\n",
       "      <td>65.8</td>\n",
       "      <td>74.3</td>\n",
       "      <td>220,892,331</td>\n",
       "    </tr>\n",
       "    <tr>\n",
       "      <th>3</th>\n",
       "      <td>4</td>\n",
       "      <td>Tajikistan</td>\n",
       "      <td>59.4</td>\n",
       "      <td>30.9</td>\n",
       "      <td>NaN</td>\n",
       "      <td>NaN</td>\n",
       "      <td>9,537,642</td>\n",
       "    </tr>\n",
       "    <tr>\n",
       "      <th>4</th>\n",
       "      <td>5</td>\n",
       "      <td>India</td>\n",
       "      <td>58.1</td>\n",
       "      <td>51.9</td>\n",
       "      <td>58.1</td>\n",
       "      <td>72.5</td>\n",
       "      <td>1,380,004,385</td>\n",
       "    </tr>\n",
       "    <tr>\n",
       "      <th>...</th>\n",
       "      <td>...</td>\n",
       "      <td>...</td>\n",
       "      <td>...</td>\n",
       "      <td>...</td>\n",
       "      <td>...</td>\n",
       "      <td>...</td>\n",
       "      <td>...</td>\n",
       "    </tr>\n",
       "    <tr>\n",
       "      <th>113</th>\n",
       "      <td>114</td>\n",
       "      <td>Bonaire, Saint Eustatius and Saba</td>\n",
       "      <td>5.1</td>\n",
       "      <td>NaN</td>\n",
       "      <td>NaN</td>\n",
       "      <td>NaN</td>\n",
       "      <td>26,221</td>\n",
       "    </tr>\n",
       "    <tr>\n",
       "      <th>114</th>\n",
       "      <td>115</td>\n",
       "      <td>Cape Verde</td>\n",
       "      <td>5.1</td>\n",
       "      <td>NaN</td>\n",
       "      <td>NaN</td>\n",
       "      <td>NaN</td>\n",
       "      <td>555,988</td>\n",
       "    </tr>\n",
       "    <tr>\n",
       "      <th>115</th>\n",
       "      <td>116</td>\n",
       "      <td>Puerto Rico</td>\n",
       "      <td>4.8</td>\n",
       "      <td>3.7</td>\n",
       "      <td>10.2</td>\n",
       "      <td>13.7</td>\n",
       "      <td>2,860,840</td>\n",
       "    </tr>\n",
       "    <tr>\n",
       "      <th>116</th>\n",
       "      <td>117</td>\n",
       "      <td>U.S. Virgin Islands</td>\n",
       "      <td>4.5</td>\n",
       "      <td>3.7</td>\n",
       "      <td>3.5</td>\n",
       "      <td>NaN</td>\n",
       "      <td>104,423</td>\n",
       "    </tr>\n",
       "    <tr>\n",
       "      <th>117</th>\n",
       "      <td>118</td>\n",
       "      <td>New Caledonia</td>\n",
       "      <td>3.8</td>\n",
       "      <td>3.7</td>\n",
       "      <td>NaN</td>\n",
       "      <td>NaN</td>\n",
       "      <td>285,491</td>\n",
       "    </tr>\n",
       "  </tbody>\n",
       "</table>\n",
       "<p>118 rows × 7 columns</p>\n",
       "</div>"
      ],
      "text/plain": [
       "     Rank                     Country/Region  2021  2020  2019  2018  \\\n",
       "0       1                         Bangladesh  76.9  77.1  83.3  97.1   \n",
       "1       2                               Chad  75.9   NaN   NaN   NaN   \n",
       "2       3                           Pakistan  66.8    59  65.8  74.3   \n",
       "3       4                         Tajikistan  59.4  30.9   NaN   NaN   \n",
       "4       5                              India  58.1  51.9  58.1  72.5   \n",
       "..    ...                                ...   ...   ...   ...   ...   \n",
       "113   114  Bonaire, Saint Eustatius and Saba   5.1   NaN   NaN   NaN   \n",
       "114   115                         Cape Verde   5.1   NaN   NaN   NaN   \n",
       "115   116                        Puerto Rico   4.8   3.7  10.2  13.7   \n",
       "116   117                U.S. Virgin Islands   4.5   3.7   3.5   NaN   \n",
       "117   118                      New Caledonia   3.8   3.7   NaN   NaN   \n",
       "\n",
       "        Population  \n",
       "0      164,689,383  \n",
       "1       16,425,859  \n",
       "2      220,892,331  \n",
       "3        9,537,642  \n",
       "4    1,380,004,385  \n",
       "..             ...  \n",
       "113         26,221  \n",
       "114        555,988  \n",
       "115      2,860,840  \n",
       "116        104,423  \n",
       "117        285,491  \n",
       "\n",
       "[118 rows x 7 columns]"
      ]
     },
     "execution_count": 177,
     "metadata": {},
     "output_type": "execute_result"
    }
   ],
   "source": [
    "dataa"
   ]
  },
  {
   "cell_type": "markdown",
   "metadata": {},
   "source": [
    "months and years shouldnt be columns but should be rows insead"
   ]
  },
  {
   "cell_type": "markdown",
   "metadata": {
    "id": "4ffMoRGSwzYj"
   },
   "source": [
    "### Tidiness Issue 2: "
   ]
  },
  {
   "cell_type": "code",
   "execution_count": 178,
   "metadata": {
    "id": "XUpeoqokw5Qt"
   },
   "outputs": [
    {
     "data": {
      "text/html": [
       "<div>\n",
       "<style scoped>\n",
       "    .dataframe tbody tr th:only-of-type {\n",
       "        vertical-align: middle;\n",
       "    }\n",
       "\n",
       "    .dataframe tbody tr th {\n",
       "        vertical-align: top;\n",
       "    }\n",
       "\n",
       "    .dataframe thead th {\n",
       "        text-align: right;\n",
       "    }\n",
       "</style>\n",
       "<table border=\"1\" class=\"dataframe\">\n",
       "  <thead>\n",
       "    <tr style=\"text-align: right;\">\n",
       "      <th></th>\n",
       "      <th>Rank</th>\n",
       "      <th>City</th>\n",
       "      <th>2021</th>\n",
       "      <th>JAN(2021)</th>\n",
       "      <th>FEB(2021)</th>\n",
       "      <th>MAR(2021)</th>\n",
       "      <th>APR(2021)</th>\n",
       "      <th>MAY(2021)</th>\n",
       "      <th>JUN(2021)</th>\n",
       "      <th>JUL(2021)</th>\n",
       "      <th>AUG(2021)</th>\n",
       "      <th>SEP(2021)</th>\n",
       "      <th>OCT(2021)</th>\n",
       "      <th>NOV(2021)</th>\n",
       "      <th>DEC(2021)</th>\n",
       "      <th>2020</th>\n",
       "      <th>2019</th>\n",
       "      <th>2018</th>\n",
       "      <th>2017</th>\n",
       "    </tr>\n",
       "  </thead>\n",
       "  <tbody>\n",
       "    <tr>\n",
       "      <th>0</th>\n",
       "      <td>1</td>\n",
       "      <td>Bhiwadi, India</td>\n",
       "      <td>106.2</td>\n",
       "      <td>145.8</td>\n",
       "      <td>129.8</td>\n",
       "      <td>120.2</td>\n",
       "      <td>125.7</td>\n",
       "      <td>86.5</td>\n",
       "      <td>95.9</td>\n",
       "      <td>55.6</td>\n",
       "      <td>55.4</td>\n",
       "      <td>37.1</td>\n",
       "      <td>91.1</td>\n",
       "      <td>188.6</td>\n",
       "      <td>136.6</td>\n",
       "      <td>95.5</td>\n",
       "      <td>83.4</td>\n",
       "      <td>125.4</td>\n",
       "      <td>NaN</td>\n",
       "    </tr>\n",
       "    <tr>\n",
       "      <th>1</th>\n",
       "      <td>2</td>\n",
       "      <td>Ghaziabad, India</td>\n",
       "      <td>102.0</td>\n",
       "      <td>199.9</td>\n",
       "      <td>172.2</td>\n",
       "      <td>97.8</td>\n",
       "      <td>86.3</td>\n",
       "      <td>52.9</td>\n",
       "      <td>47.2</td>\n",
       "      <td>35.3</td>\n",
       "      <td>37.6</td>\n",
       "      <td>30.8</td>\n",
       "      <td>89.7</td>\n",
       "      <td>218.3</td>\n",
       "      <td>163</td>\n",
       "      <td>106.6</td>\n",
       "      <td>110.2</td>\n",
       "      <td>135.2</td>\n",
       "      <td>144.6</td>\n",
       "    </tr>\n",
       "    <tr>\n",
       "      <th>2</th>\n",
       "      <td>3</td>\n",
       "      <td>Hotan, China</td>\n",
       "      <td>101.5</td>\n",
       "      <td>NaN</td>\n",
       "      <td>NaN</td>\n",
       "      <td>158</td>\n",
       "      <td>91.1</td>\n",
       "      <td>167.4</td>\n",
       "      <td>57.4</td>\n",
       "      <td>70.9</td>\n",
       "      <td>93.2</td>\n",
       "      <td>79.3</td>\n",
       "      <td>126.1</td>\n",
       "      <td>111.5</td>\n",
       "      <td>62.6</td>\n",
       "      <td>110.2</td>\n",
       "      <td>110.1</td>\n",
       "      <td>116</td>\n",
       "      <td>91.9</td>\n",
       "    </tr>\n",
       "    <tr>\n",
       "      <th>3</th>\n",
       "      <td>4</td>\n",
       "      <td>Delhi, India</td>\n",
       "      <td>96.4</td>\n",
       "      <td>183.7</td>\n",
       "      <td>142.2</td>\n",
       "      <td>80.5</td>\n",
       "      <td>72.9</td>\n",
       "      <td>47.4</td>\n",
       "      <td>47.1</td>\n",
       "      <td>35.6</td>\n",
       "      <td>36.9</td>\n",
       "      <td>30.2</td>\n",
       "      <td>73.7</td>\n",
       "      <td>224.1</td>\n",
       "      <td>186.4</td>\n",
       "      <td>84.1</td>\n",
       "      <td>98.6</td>\n",
       "      <td>113.5</td>\n",
       "      <td>108.2</td>\n",
       "    </tr>\n",
       "    <tr>\n",
       "      <th>4</th>\n",
       "      <td>5</td>\n",
       "      <td>Jaunpur, India</td>\n",
       "      <td>95.3</td>\n",
       "      <td>182.2</td>\n",
       "      <td>143.5</td>\n",
       "      <td>91</td>\n",
       "      <td>70</td>\n",
       "      <td>51.1</td>\n",
       "      <td>40.7</td>\n",
       "      <td>33.5</td>\n",
       "      <td>34.2</td>\n",
       "      <td>36.8</td>\n",
       "      <td>75.7</td>\n",
       "      <td>196</td>\n",
       "      <td>195.7</td>\n",
       "      <td>NaN</td>\n",
       "      <td>NaN</td>\n",
       "      <td>NaN</td>\n",
       "      <td>NaN</td>\n",
       "    </tr>\n",
       "  </tbody>\n",
       "</table>\n",
       "</div>"
      ],
      "text/plain": [
       "   Rank              City   2021 JAN(2021) FEB(2021) MAR(2021) APR(2021)  \\\n",
       "0     1    Bhiwadi, India  106.2     145.8     129.8     120.2     125.7   \n",
       "1     2  Ghaziabad, India  102.0     199.9     172.2      97.8      86.3   \n",
       "2     3      Hotan, China  101.5       NaN       NaN       158      91.1   \n",
       "3     4      Delhi, India   96.4     183.7     142.2      80.5      72.9   \n",
       "4     5    Jaunpur, India   95.3     182.2     143.5        91        70   \n",
       "\n",
       "  MAY(2021) JUN(2021) JUL(2021) AUG(2021) SEP(2021) OCT(2021) NOV(2021)  \\\n",
       "0      86.5      95.9      55.6      55.4      37.1      91.1     188.6   \n",
       "1      52.9      47.2      35.3      37.6      30.8      89.7     218.3   \n",
       "2     167.4      57.4      70.9      93.2      79.3     126.1     111.5   \n",
       "3      47.4      47.1      35.6      36.9      30.2      73.7     224.1   \n",
       "4      51.1      40.7      33.5      34.2      36.8      75.7       196   \n",
       "\n",
       "  DEC(2021)   2020   2019   2018   2017  \n",
       "0     136.6   95.5   83.4  125.4    NaN  \n",
       "1       163  106.6  110.2  135.2  144.6  \n",
       "2      62.6  110.2  110.1    116   91.9  \n",
       "3     186.4   84.1   98.6  113.5  108.2  \n",
       "4     195.7    NaN    NaN    NaN    NaN  "
      ]
     },
     "execution_count": 178,
     "metadata": {},
     "output_type": "execute_result"
    }
   ],
   "source": [
    "data.head()\n"
   ]
  },
  {
   "cell_type": "code",
   "execution_count": 179,
   "metadata": {
    "id": "c8JK4DoXxtFA"
   },
   "outputs": [
    {
     "data": {
      "text/plain": [
       "([],\n",
       " Rank         6475\n",
       " City         6216\n",
       " 2021          522\n",
       " JAN(2021)     770\n",
       " FEB(2021)     704\n",
       " MAR(2021)     685\n",
       " APR(2021)     524\n",
       " MAY(2021)     454\n",
       " JUN(2021)     420\n",
       " JUL(2021)     429\n",
       " AUG(2021)     577\n",
       " SEP(2021)     423\n",
       " OCT(2021)     514\n",
       " NOV(2021)     658\n",
       " DEC(2021)     715\n",
       " 2020          509\n",
       " 2019          512\n",
       " 2018          491\n",
       " 2017          499\n",
       " dtype: int64,\n",
       " Rank           int64\n",
       " City          object\n",
       " 2021         float64\n",
       " JAN(2021)     object\n",
       " FEB(2021)     object\n",
       " MAR(2021)     object\n",
       " APR(2021)     object\n",
       " MAY(2021)     object\n",
       " JUN(2021)     object\n",
       " JUL(2021)     object\n",
       " AUG(2021)     object\n",
       " SEP(2021)     object\n",
       " OCT(2021)     object\n",
       " NOV(2021)     object\n",
       " DEC(2021)     object\n",
       " 2020          object\n",
       " 2019          object\n",
       " 2018          object\n",
       " 2017          object\n",
       " dtype: object)"
      ]
     },
     "execution_count": 179,
     "metadata": {},
     "output_type": "execute_result"
    }
   ],
   "source": [
    "# Check if any column is constant (non-informative)\n",
    "constant_cols = [col for col in data.columns if data[col].nunique(dropna=False) <= 1]\n",
    "\n",
    "# Check unique counts for all columns\n",
    "unique_counts = data.nunique(dropna=False)\n",
    "\n",
    "# Check data types for structural clues\n",
    "dtypes = data.dtypes\n",
    "\n",
    "constant_cols, unique_counts, dtypes\n"
   ]
  },
  {
   "cell_type": "markdown",
   "metadata": {},
   "source": [
    "Rank is not useful in this analysis becuase we're focusing on AQI vaules themselves"
   ]
  },
  {
   "cell_type": "markdown",
   "metadata": {
    "id": "D6gmLnBttpCh"
   },
   "source": [
    "## 3. Clean data\n",
    "Clean the data to solve the 4 issues corresponding to data quality and tidiness found in the assessing step. **Make sure you include justifications for your cleaning decisions.**\n",
    "\n",
    "After the cleaning for each issue, please use **either** the visually or programatical method to validate the cleaning was succesful.\n",
    "\n",
    "At this stage, you are also expected to remove variables that are unnecessary for your analysis and combine your datasets. Depending on your datasets, you may choose to perform variable combination and elimination before or after the cleaning stage. Your dataset must have **at least** 4 variables after combining the data."
   ]
  },
  {
   "cell_type": "code",
   "execution_count": 180,
   "metadata": {},
   "outputs": [],
   "source": [
    "data1=data.copy()\n",
    "data2=dataa.copy()"
   ]
  },
  {
   "cell_type": "markdown",
   "metadata": {
    "id": "FmFhN52Yyn3l"
   },
   "source": [
    "### **Quality Issue 1: FILL IN**"
   ]
  },
  {
   "cell_type": "markdown",
   "metadata": {},
   "source": [
    "### Missing values is the first quality issue and i chose to deal with it later on the project"
   ]
  },
  {
   "cell_type": "code",
   "execution_count": 181,
   "metadata": {
    "id": "9UejDWrNMW4a"
   },
   "outputs": [],
   "source": [
    "# FILL IN - Apply the cleaning strategy"
   ]
  },
  {
   "cell_type": "code",
   "execution_count": 182,
   "metadata": {
    "id": "oUBee-LPytkv"
   },
   "outputs": [],
   "source": [
    "# FILL IN - Validate the cleaning was successful"
   ]
  },
  {
   "cell_type": "markdown",
   "metadata": {},
   "source": [
    "Justification: *FILL IN*"
   ]
  },
  {
   "cell_type": "markdown",
   "metadata": {
    "id": "n_DAUbJrymBL"
   },
   "source": [
    "### **Quality Issue 2: FILL IN**"
   ]
  },
  {
   "cell_type": "code",
   "execution_count": 183,
   "metadata": {
    "id": "5Yfb-Yu5MTuE"
   },
   "outputs": [],
   "source": [
    "month_cols1 = [\n",
    "    \"JAN(2021)\", \"FEB(2021)\", \"MAR(2021)\", \"APR(2021)\", \"MAY(2021)\", \"JUN(2021)\",\n",
    "    \"JUL(2021)\", \"AUG(2021)\", \"SEP(2021)\", \"OCT(2021)\", \"NOV(2021)\", \"DEC(2021)\",\"2020\",\"2019\",\"2018\",\"2017\"\n",
    "]\n",
    "\n",
    "data1[month_cols1] = data1[month_cols1].apply(pd.to_numeric, errors='coerce')\n",
    "\n",
    "\n",
    "\n",
    "month_cols2 = [\n",
    "    \"2021\",\"2020\",\"2019\",\"2018\",\"Population\"\n",
    "]\n",
    "data2[month_cols2] = data2[month_cols2].apply(pd.to_numeric, errors='coerce')\n",
    "\n",
    "\n"
   ]
  },
  {
   "cell_type": "code",
   "execution_count": 184,
   "metadata": {
    "id": "ionB2sRaMUmY"
   },
   "outputs": [
    {
     "name": "stdout",
     "output_type": "stream",
     "text": [
      "Rank           int64\n",
      "City          object\n",
      "2021         float64\n",
      "JAN(2021)    float64\n",
      "FEB(2021)    float64\n",
      "MAR(2021)    float64\n",
      "APR(2021)    float64\n",
      "MAY(2021)    float64\n",
      "JUN(2021)    float64\n",
      "JUL(2021)    float64\n",
      "AUG(2021)    float64\n",
      "SEP(2021)    float64\n",
      "OCT(2021)    float64\n",
      "NOV(2021)    float64\n",
      "DEC(2021)    float64\n",
      "2020         float64\n",
      "2019         float64\n",
      "2018         float64\n",
      "2017         float64\n",
      "dtype: object\n",
      "--------------------------\n",
      "Rank                int64\n",
      "Country/Region     object\n",
      "2021              float64\n",
      "2020              float64\n",
      "2019              float64\n",
      "2018              float64\n",
      "Population        float64\n",
      "dtype: object\n"
     ]
    }
   ],
   "source": [
    "print(data1.dtypes)\n",
    "print(\"--------------------------\")\n",
    "print(data2.dtypes)"
   ]
  },
  {
   "cell_type": "markdown",
   "metadata": {},
   "source": [
    "Using float with these columns will help us aggregate through the data"
   ]
  },
  {
   "cell_type": "markdown",
   "metadata": {
    "id": "bIUrrfSNyOPR"
   },
   "source": [
    "### **Tidiness Issue 1: FILL IN**"
   ]
  },
  {
   "cell_type": "code",
   "execution_count": 185,
   "metadata": {
    "id": "fib0zAm333bn"
   },
   "outputs": [
    {
     "name": "stderr",
     "output_type": "stream",
     "text": [
      "C:\\Users\\asus\\AppData\\Local\\Temp\\ipykernel_5256\\796558122.py:20: SettingWithCopyWarning: \n",
      "A value is trying to be set on a copy of a slice from a DataFrame.\n",
      "Try using .loc[row_indexer,col_indexer] = value instead\n",
      "\n",
      "See the caveats in the documentation: https://pandas.pydata.org/pandas-docs/stable/user_guide/indexing.html#returning-a-view-versus-a-copy\n",
      "  df_cleaned['AQI'] = pd.to_numeric(df_cleaned['AQI'], errors='coerce')\n"
     ]
    }
   ],
   "source": [
    "\n",
    "# Step 1: Identify columns that contain month-year values\n",
    "month_year_cols = [col for col in data1.columns if '(' in col and ')' in col]\n",
    "\n",
    "# Step 2: Melt the DataFrame to long format\n",
    "df_melted = pd.melt(\n",
    "    data1,\n",
    "    id_vars=['Rank', 'City'],\n",
    "    value_vars=month_year_cols,\n",
    "    var_name='Month_Year',\n",
    "    value_name='AQI'\n",
    ")\n",
    "\n",
    "# Step 3: Extract Month and Year into separate columns\n",
    "df_melted[['Month', 'Year']] = df_melted['Month_Year'].str.extract(r'([A-Z]+)\\((\\d{4})\\)')\n",
    "\n",
    "# Step 4: Reorder columns for clarity\n",
    "df_cleaned = df_melted[['Rank', 'City', 'Year', 'Month', 'AQI']]\n",
    "\n",
    "# Step 5: Replace \"-\" with NaN and convert AQI to float\n",
    "df_cleaned['AQI'] = pd.to_numeric(df_cleaned['AQI'], errors='coerce')\n",
    "\n",
    "\n"
   ]
  },
  {
   "cell_type": "code",
   "execution_count": 186,
   "metadata": {},
   "outputs": [],
   "source": [
    "year_cols = [col for col in data2.columns if col.isdigit()]\n",
    "\n",
    "# Melt the DataFrame to long format\n",
    "df2_melted = pd.melt(\n",
    "    data2,\n",
    "    id_vars=['Rank', 'Country/Region', 'Population'],\n",
    "    value_vars=year_cols,\n",
    "    var_name='Year',\n",
    "    value_name='AQI'\n",
    ")\n",
    "\n",
    "# Reorder columns for clarity\n",
    "df_cleaned2 = df2_melted[['Rank', 'Country/Region', 'Year', 'Population', 'AQI']]\n",
    "\n",
    "# Convert AQI and Population to appropriate types\n",
    "df_cleaned2['AQI'] = pd.to_numeric(df_cleaned2['AQI'], errors='coerce')\n",
    "df_cleaned2['Population'] = pd.to_numeric(df_cleaned2['Population'], errors='coerce')\n",
    "\n",
    "\n"
   ]
  },
  {
   "cell_type": "code",
   "execution_count": 187,
   "metadata": {
    "id": "yhrnUGY_Nk8B"
   },
   "outputs": [
    {
     "data": {
      "text/html": [
       "<div>\n",
       "<style scoped>\n",
       "    .dataframe tbody tr th:only-of-type {\n",
       "        vertical-align: middle;\n",
       "    }\n",
       "\n",
       "    .dataframe tbody tr th {\n",
       "        vertical-align: top;\n",
       "    }\n",
       "\n",
       "    .dataframe thead th {\n",
       "        text-align: right;\n",
       "    }\n",
       "</style>\n",
       "<table border=\"1\" class=\"dataframe\">\n",
       "  <thead>\n",
       "    <tr style=\"text-align: right;\">\n",
       "      <th></th>\n",
       "      <th>Rank</th>\n",
       "      <th>City</th>\n",
       "      <th>Year</th>\n",
       "      <th>Month</th>\n",
       "      <th>AQI</th>\n",
       "    </tr>\n",
       "  </thead>\n",
       "  <tbody>\n",
       "    <tr>\n",
       "      <th>0</th>\n",
       "      <td>1</td>\n",
       "      <td>Bhiwadi, India</td>\n",
       "      <td>2021</td>\n",
       "      <td>JAN</td>\n",
       "      <td>145.8</td>\n",
       "    </tr>\n",
       "    <tr>\n",
       "      <th>1</th>\n",
       "      <td>2</td>\n",
       "      <td>Ghaziabad, India</td>\n",
       "      <td>2021</td>\n",
       "      <td>JAN</td>\n",
       "      <td>199.9</td>\n",
       "    </tr>\n",
       "    <tr>\n",
       "      <th>2</th>\n",
       "      <td>3</td>\n",
       "      <td>Hotan, China</td>\n",
       "      <td>2021</td>\n",
       "      <td>JAN</td>\n",
       "      <td>NaN</td>\n",
       "    </tr>\n",
       "    <tr>\n",
       "      <th>3</th>\n",
       "      <td>4</td>\n",
       "      <td>Delhi, India</td>\n",
       "      <td>2021</td>\n",
       "      <td>JAN</td>\n",
       "      <td>183.7</td>\n",
       "    </tr>\n",
       "    <tr>\n",
       "      <th>4</th>\n",
       "      <td>5</td>\n",
       "      <td>Jaunpur, India</td>\n",
       "      <td>2021</td>\n",
       "      <td>JAN</td>\n",
       "      <td>182.2</td>\n",
       "    </tr>\n",
       "  </tbody>\n",
       "</table>\n",
       "</div>"
      ],
      "text/plain": [
       "   Rank              City  Year Month    AQI\n",
       "0     1    Bhiwadi, India  2021   JAN  145.8\n",
       "1     2  Ghaziabad, India  2021   JAN  199.9\n",
       "2     3      Hotan, China  2021   JAN    NaN\n",
       "3     4      Delhi, India  2021   JAN  183.7\n",
       "4     5    Jaunpur, India  2021   JAN  182.2"
      ]
     },
     "execution_count": 187,
     "metadata": {},
     "output_type": "execute_result"
    }
   ],
   "source": [
    "# The cleaned DataFrame is now tidy\n",
    "df_cleaned.head()"
   ]
  },
  {
   "cell_type": "code",
   "execution_count": 188,
   "metadata": {},
   "outputs": [
    {
     "data": {
      "text/html": [
       "<div>\n",
       "<style scoped>\n",
       "    .dataframe tbody tr th:only-of-type {\n",
       "        vertical-align: middle;\n",
       "    }\n",
       "\n",
       "    .dataframe tbody tr th {\n",
       "        vertical-align: top;\n",
       "    }\n",
       "\n",
       "    .dataframe thead th {\n",
       "        text-align: right;\n",
       "    }\n",
       "</style>\n",
       "<table border=\"1\" class=\"dataframe\">\n",
       "  <thead>\n",
       "    <tr style=\"text-align: right;\">\n",
       "      <th></th>\n",
       "      <th>Rank</th>\n",
       "      <th>Country/Region</th>\n",
       "      <th>Year</th>\n",
       "      <th>Population</th>\n",
       "      <th>AQI</th>\n",
       "    </tr>\n",
       "  </thead>\n",
       "  <tbody>\n",
       "    <tr>\n",
       "      <th>0</th>\n",
       "      <td>1</td>\n",
       "      <td>Bangladesh</td>\n",
       "      <td>2021</td>\n",
       "      <td>NaN</td>\n",
       "      <td>76.9</td>\n",
       "    </tr>\n",
       "    <tr>\n",
       "      <th>1</th>\n",
       "      <td>2</td>\n",
       "      <td>Chad</td>\n",
       "      <td>2021</td>\n",
       "      <td>NaN</td>\n",
       "      <td>75.9</td>\n",
       "    </tr>\n",
       "    <tr>\n",
       "      <th>2</th>\n",
       "      <td>3</td>\n",
       "      <td>Pakistan</td>\n",
       "      <td>2021</td>\n",
       "      <td>NaN</td>\n",
       "      <td>66.8</td>\n",
       "    </tr>\n",
       "    <tr>\n",
       "      <th>3</th>\n",
       "      <td>4</td>\n",
       "      <td>Tajikistan</td>\n",
       "      <td>2021</td>\n",
       "      <td>NaN</td>\n",
       "      <td>59.4</td>\n",
       "    </tr>\n",
       "    <tr>\n",
       "      <th>4</th>\n",
       "      <td>5</td>\n",
       "      <td>India</td>\n",
       "      <td>2021</td>\n",
       "      <td>NaN</td>\n",
       "      <td>58.1</td>\n",
       "    </tr>\n",
       "    <tr>\n",
       "      <th>5</th>\n",
       "      <td>6</td>\n",
       "      <td>Oman</td>\n",
       "      <td>2021</td>\n",
       "      <td>NaN</td>\n",
       "      <td>53.9</td>\n",
       "    </tr>\n",
       "    <tr>\n",
       "      <th>6</th>\n",
       "      <td>7</td>\n",
       "      <td>Kyrgyzstan</td>\n",
       "      <td>2021</td>\n",
       "      <td>NaN</td>\n",
       "      <td>50.8</td>\n",
       "    </tr>\n",
       "    <tr>\n",
       "      <th>7</th>\n",
       "      <td>8</td>\n",
       "      <td>Bahrain</td>\n",
       "      <td>2021</td>\n",
       "      <td>NaN</td>\n",
       "      <td>49.8</td>\n",
       "    </tr>\n",
       "    <tr>\n",
       "      <th>8</th>\n",
       "      <td>9</td>\n",
       "      <td>Iraq</td>\n",
       "      <td>2021</td>\n",
       "      <td>NaN</td>\n",
       "      <td>49.7</td>\n",
       "    </tr>\n",
       "    <tr>\n",
       "      <th>9</th>\n",
       "      <td>10</td>\n",
       "      <td>Nepal</td>\n",
       "      <td>2021</td>\n",
       "      <td>NaN</td>\n",
       "      <td>46.0</td>\n",
       "    </tr>\n",
       "    <tr>\n",
       "      <th>10</th>\n",
       "      <td>11</td>\n",
       "      <td>Sudan</td>\n",
       "      <td>2021</td>\n",
       "      <td>NaN</td>\n",
       "      <td>44.1</td>\n",
       "    </tr>\n",
       "    <tr>\n",
       "      <th>11</th>\n",
       "      <td>12</td>\n",
       "      <td>Uzbekistan</td>\n",
       "      <td>2021</td>\n",
       "      <td>NaN</td>\n",
       "      <td>42.8</td>\n",
       "    </tr>\n",
       "    <tr>\n",
       "      <th>12</th>\n",
       "      <td>13</td>\n",
       "      <td>Qatar</td>\n",
       "      <td>2021</td>\n",
       "      <td>NaN</td>\n",
       "      <td>38.2</td>\n",
       "    </tr>\n",
       "    <tr>\n",
       "      <th>13</th>\n",
       "      <td>14</td>\n",
       "      <td>Afghanistan</td>\n",
       "      <td>2021</td>\n",
       "      <td>NaN</td>\n",
       "      <td>37.5</td>\n",
       "    </tr>\n",
       "    <tr>\n",
       "      <th>14</th>\n",
       "      <td>15</td>\n",
       "      <td>United Arab Emirates</td>\n",
       "      <td>2021</td>\n",
       "      <td>NaN</td>\n",
       "      <td>36.0</td>\n",
       "    </tr>\n",
       "    <tr>\n",
       "      <th>15</th>\n",
       "      <td>16</td>\n",
       "      <td>Montenegro</td>\n",
       "      <td>2021</td>\n",
       "      <td>NaN</td>\n",
       "      <td>35.2</td>\n",
       "    </tr>\n",
       "    <tr>\n",
       "      <th>16</th>\n",
       "      <td>17</td>\n",
       "      <td>Indonesia</td>\n",
       "      <td>2021</td>\n",
       "      <td>NaN</td>\n",
       "      <td>34.3</td>\n",
       "    </tr>\n",
       "    <tr>\n",
       "      <th>17</th>\n",
       "      <td>18</td>\n",
       "      <td>Nigeria</td>\n",
       "      <td>2021</td>\n",
       "      <td>NaN</td>\n",
       "      <td>34.0</td>\n",
       "    </tr>\n",
       "    <tr>\n",
       "      <th>18</th>\n",
       "      <td>19</td>\n",
       "      <td>Armenia</td>\n",
       "      <td>2021</td>\n",
       "      <td>NaN</td>\n",
       "      <td>33.9</td>\n",
       "    </tr>\n",
       "    <tr>\n",
       "      <th>19</th>\n",
       "      <td>20</td>\n",
       "      <td>Mongolia</td>\n",
       "      <td>2021</td>\n",
       "      <td>NaN</td>\n",
       "      <td>33.1</td>\n",
       "    </tr>\n",
       "  </tbody>\n",
       "</table>\n",
       "</div>"
      ],
      "text/plain": [
       "    Rank        Country/Region  Year  Population   AQI\n",
       "0      1            Bangladesh  2021         NaN  76.9\n",
       "1      2                  Chad  2021         NaN  75.9\n",
       "2      3              Pakistan  2021         NaN  66.8\n",
       "3      4            Tajikistan  2021         NaN  59.4\n",
       "4      5                 India  2021         NaN  58.1\n",
       "5      6                  Oman  2021         NaN  53.9\n",
       "6      7            Kyrgyzstan  2021         NaN  50.8\n",
       "7      8               Bahrain  2021         NaN  49.8\n",
       "8      9                  Iraq  2021         NaN  49.7\n",
       "9     10                 Nepal  2021         NaN  46.0\n",
       "10    11                 Sudan  2021         NaN  44.1\n",
       "11    12            Uzbekistan  2021         NaN  42.8\n",
       "12    13                 Qatar  2021         NaN  38.2\n",
       "13    14           Afghanistan  2021         NaN  37.5\n",
       "14    15  United Arab Emirates  2021         NaN  36.0\n",
       "15    16            Montenegro  2021         NaN  35.2\n",
       "16    17             Indonesia  2021         NaN  34.3\n",
       "17    18               Nigeria  2021         NaN  34.0\n",
       "18    19               Armenia  2021         NaN  33.9\n",
       "19    20              Mongolia  2021         NaN  33.1"
      ]
     },
     "execution_count": 188,
     "metadata": {},
     "output_type": "execute_result"
    }
   ],
   "source": [
    "df_cleaned2.head(20)"
   ]
  },
  {
   "cell_type": "markdown",
   "metadata": {},
   "source": [
    "using the months and the years as coulmns instead in being rows will result in duplicated data and its harder to deal with"
   ]
  },
  {
   "cell_type": "markdown",
   "metadata": {
    "id": "o51Bt8kwyTzk"
   },
   "source": [
    "### **Tidiness Issue 2: FILL IN**"
   ]
  },
  {
   "cell_type": "code",
   "execution_count": 189,
   "metadata": {
    "id": "7zW8O5yx4Y9O"
   },
   "outputs": [],
   "source": [
    "#FILL IN - Apply the cleaning strategy\n",
    "df_cleaned=df_cleaned.drop(columns=\"Rank\")\n",
    "df_cleaned2 = df_cleaned2.drop(columns=[\"Rank\", \"Population\"])"
   ]
  },
  {
   "cell_type": "code",
   "execution_count": 190,
   "metadata": {
    "id": "q6I_Sr7lxXi5"
   },
   "outputs": [
    {
     "name": "stdout",
     "output_type": "stream",
     "text": [
      "               City  Year Month    AQI\n",
      "0    Bhiwadi, India  2021   JAN  145.8\n",
      "1  Ghaziabad, India  2021   JAN  199.9\n",
      "2      Hotan, China  2021   JAN    NaN\n",
      "3      Delhi, India  2021   JAN  183.7\n",
      "4    Jaunpur, India  2021   JAN  182.2\n",
      "-----------------------------------------\n",
      "  Country/Region  Year   AQI\n",
      "0     Bangladesh  2021  76.9\n",
      "1           Chad  2021  75.9\n",
      "2       Pakistan  2021  66.8\n",
      "3     Tajikistan  2021  59.4\n",
      "4          India  2021  58.1\n"
     ]
    }
   ],
   "source": [
    "#FILL IN - Validate the cleaning was successful\n",
    "print(df_cleaned.head())\n",
    "print(\"-----------------------------------------\")\n",
    "print(df_cleaned2.head())"
   ]
  },
  {
   "cell_type": "markdown",
   "metadata": {},
   "source": [
    "Rank column was unnecessary for this analysis since we are focusing on grouping values of every country based on AQI"
   ]
  },
  {
   "cell_type": "markdown",
   "metadata": {},
   "source": [
    "### **Remove unnecessary variables and combine datasets**\n",
    "\n",
    "Depending on the datasets, you can also peform the combination before the cleaning steps."
   ]
  },
  {
   "cell_type": "code",
   "execution_count": 191,
   "metadata": {},
   "outputs": [
    {
     "name": "stdout",
     "output_type": "stream",
     "text": [
      "Combined shape: (78172, 3)\n",
      "                                 Country  Year    AQI\n",
      "0                                  India  2021  145.8\n",
      "1                                  India  2021  199.9\n",
      "2                                  China  2021    NaN\n",
      "3                                  India  2021  183.7\n",
      "4                                  India  2021  182.2\n",
      "...                                  ...   ...    ...\n",
      "78167  Bonaire, Saint Eustatius and Saba  2018    NaN\n",
      "78168                         Cape Verde  2018    NaN\n",
      "78169                        Puerto Rico  2018   13.7\n",
      "78170                U.S. Virgin Islands  2018    NaN\n",
      "78171                      New Caledonia  2018    NaN\n",
      "\n",
      "[78172 rows x 3 columns]\n"
     ]
    }
   ],
   "source": [
    "#Extract country from data1['City'] (e.g., \"Delhi, India\" → \"India\")\n",
    "data3 = df_cleaned.copy()\n",
    "data3['Country'] = data3['City'].str.split(',', n=1).str[1].str.strip()\n",
    "\n",
    "# Drop the 'City' column from data3\n",
    "data3.drop(['City'], axis=1, inplace=True)\n",
    "\n",
    "data2_renamed = df_cleaned2.rename(columns={'Country/Region': 'Country'})\n",
    "\n",
    "common_columns = ['Country',\"Year\",\"AQI\"]\n",
    "newData1 = data3[common_columns]\n",
    "newData2 = data2_renamed[common_columns]\n",
    "\n",
    "# Concatenate both datasets\n",
    "combined = pd.concat([newData1, newData2], axis=0, ignore_index=True)\n",
    "\n",
    "print(\"Combined shape:\", combined.shape)\n",
    "print(combined)\n"
   ]
  },
  {
   "cell_type": "code",
   "execution_count": 192,
   "metadata": {},
   "outputs": [
    {
     "name": "stdout",
     "output_type": "stream",
     "text": [
      "Grouped shape: (472, 3)\n",
      "        Country  Year        AQI\n",
      "0   Afghanistan  2018  61.800000\n",
      "1   Afghanistan  2019  58.800000\n",
      "2   Afghanistan  2020  46.500000\n",
      "3   Afghanistan  2021  40.869231\n",
      "4       Albania  2018        NaN\n",
      "5       Albania  2019        NaN\n",
      "6       Albania  2020  16.000000\n",
      "7       Albania  2021  12.546154\n",
      "8       Algeria  2018        NaN\n",
      "9       Algeria  2019  21.200000\n",
      "10      Algeria  2020  20.200000\n",
      "11      Algeria  2021  20.084615\n",
      "12      Andorra  2018        NaN\n",
      "13      Andorra  2019        NaN\n",
      "14      Andorra  2020   7.400000\n",
      "15      Andorra  2021   7.161538\n",
      "16       Angola  2018        NaN\n",
      "17       Angola  2019  15.900000\n",
      "18       Angola  2020  13.000000\n",
      "19       Angola  2021  11.076923\n"
     ]
    }
   ],
   "source": [
    "# Group by Country and Year, then take the mean of AQI\n",
    "grouped = combined.groupby(['Country', 'Year'], as_index=False)['AQI'].mean()\n",
    "\n",
    "print(\"Grouped shape:\", grouped.shape)\n",
    "print(grouped.head(20))\n"
   ]
  },
  {
   "cell_type": "code",
   "execution_count": 193,
   "metadata": {},
   "outputs": [
    {
     "name": "stdout",
     "output_type": "stream",
     "text": [
      "    Country  Year        AQI\n",
      "8   Algeria  2018        NaN\n",
      "9   Algeria  2019  21.200000\n",
      "10  Algeria  2020  20.200000\n",
      "11  Algeria  2021  20.084615\n"
     ]
    }
   ],
   "source": [
    "print(grouped[grouped['Country'] == 'Algeria'])"
   ]
  },
  {
   "cell_type": "markdown",
   "metadata": {},
   "source": [
    "### Dealing with misssing values"
   ]
  },
  {
   "cell_type": "code",
   "execution_count": 194,
   "metadata": {},
   "outputs": [
    {
     "name": "stdout",
     "output_type": "stream",
     "text": [
      "    Country  Year        AQI\n",
      "8   Algeria  2018  20.494872\n",
      "9   Algeria  2019  21.200000\n",
      "10  Algeria  2020  20.200000\n",
      "11  Algeria  2021  20.084615\n"
     ]
    }
   ],
   "source": [
    "# Fill NaN values in AQI with the country's mean\n",
    "grouped['AQI'] = grouped.groupby('Country')['AQI'].transform(lambda x: x.fillna(x.mean()))\n",
    "\n",
    "# Check result\n",
    "print(grouped[grouped['Country'] == 'Algeria'])"
   ]
  },
  {
   "cell_type": "code",
   "execution_count": 195,
   "metadata": {},
   "outputs": [
    {
     "data": {
      "image/png": "[encoded data removed]",
      "text/plain": [
       "<Figure size 1200x600 with 1 Axes>"
      ]
     },
     "metadata": {},
     "output_type": "display_data"
    }
   ],
   "source": [
    "plt.figure(figsize=(12, 6))\n",
    "sns.heatmap(grouped.isnull(), cbar=False, cmap='viridis')\n",
    "plt.title(\"Missing Values Heatmap\")\n",
    "plt.show()\n"
   ]
  },
  {
   "cell_type": "markdown",
   "metadata": {},
   "source": [
    "I have filled the missing value of the AQI mean of the country\n",
    "Each country has unique environmental, industrial, and policy factors affecting its AQI (Air Quality Index). Using the mean of the same country's available AQI values maintains this national profile, rather than distorting it with external or global averages."
   ]
  },
  {
   "cell_type": "markdown",
   "metadata": {
    "id": "F42urHuzttjF"
   },
   "source": [
    "## 4. Update your data store\n",
    "Update your local database/data store with the cleaned data, following best practices for storing your cleaned data:\n",
    "\n",
    "- Must maintain different instances / versions of data (raw and cleaned data)\n",
    "- Must name the dataset files informatively\n",
    "- Ensure both the raw and cleaned data is saved to your database/data store"
   ]
  },
  {
   "cell_type": "code",
   "execution_count": 203,
   "metadata": {
    "id": "V3uay7EJUV_L"
   },
   "outputs": [
    {
     "data": {
      "text/plain": [
       "InsertManyResult([ObjectId('682e4ea97310e42d2f4b1229'), ObjectId('682e4ea97310e42d2f4b122a'), ObjectId('682e4ea97310e42d2f4b122b'), ObjectId('682e4ea97310e42d2f4b122c'), ObjectId('682e4ea97310e42d2f4b122d'), ObjectId('682e4ea97310e42d2f4b122e'), ObjectId('682e4ea97310e42d2f4b122f'), ObjectId('682e4ea97310e42d2f4b1230'), ObjectId('682e4ea97310e42d2f4b1231'), ObjectId('682e4ea97310e42d2f4b1232'), ObjectId('682e4ea97310e42d2f4b1233'), ObjectId('682e4ea97310e42d2f4b1234'), ObjectId('682e4ea97310e42d2f4b1235'), ObjectId('682e4ea97310e42d2f4b1236'), ObjectId('682e4ea97310e42d2f4b1237'), ObjectId('682e4ea97310e42d2f4b1238'), ObjectId('682e4ea97310e42d2f4b1239'), ObjectId('682e4ea97310e42d2f4b123a'), ObjectId('682e4ea97310e42d2f4b123b'), ObjectId('682e4ea97310e42d2f4b123c'), ObjectId('682e4ea97310e42d2f4b123d'), ObjectId('682e4ea97310e42d2f4b123e'), ObjectId('682e4ea97310e42d2f4b123f'), ObjectId('682e4ea97310e42d2f4b1240'), ObjectId('682e4ea97310e42d2f4b1241'), ObjectId('682e4ea97310e42d2f4b1242'), ObjectId('682e4ea97310e42d2f4b1243'), ObjectId('682e4ea97310e42d2f4b1244'), ObjectId('682e4ea97310e42d2f4b1245'), ObjectId('682e4ea97310e42d2f4b1246'), ObjectId('682e4ea97310e42d2f4b1247'), ObjectId('682e4ea97310e42d2f4b1248'), ObjectId('682e4ea97310e42d2f4b1249'), ObjectId('682e4ea97310e42d2f4b124a'), ObjectId('682e4ea97310e42d2f4b124b'), ObjectId('682e4ea97310e42d2f4b124c'), ObjectId('682e4ea97310e42d2f4b124d'), ObjectId('682e4ea97310e42d2f4b124e'), ObjectId('682e4ea97310e42d2f4b124f'), ObjectId('682e4ea97310e42d2f4b1250'), ObjectId('682e4ea97310e42d2f4b1251'), ObjectId('682e4ea97310e42d2f4b1252'), ObjectId('682e4ea97310e42d2f4b1253'), ObjectId('682e4ea97310e42d2f4b1254'), ObjectId('682e4ea97310e42d2f4b1255'), ObjectId('682e4ea97310e42d2f4b1256'), ObjectId('682e4ea97310e42d2f4b1257'), ObjectId('682e4ea97310e42d2f4b1258'), ObjectId('682e4ea97310e42d2f4b1259'), ObjectId('682e4ea97310e42d2f4b125a'), ObjectId('682e4ea97310e42d2f4b125b'), ObjectId('682e4ea97310e42d2f4b125c'), ObjectId('682e4ea97310e42d2f4b125d'), ObjectId('682e4ea97310e42d2f4b125e'), ObjectId('682e4ea97310e42d2f4b125f'), ObjectId('682e4ea97310e42d2f4b1260'), ObjectId('682e4ea97310e42d2f4b1261'), ObjectId('682e4ea97310e42d2f4b1262'), ObjectId('682e4ea97310e42d2f4b1263'), ObjectId('682e4ea97310e42d2f4b1264'), ObjectId('682e4ea97310e42d2f4b1265'), ObjectId('682e4ea97310e42d2f4b1266'), ObjectId('682e4ea97310e42d2f4b1267'), ObjectId('682e4ea97310e42d2f4b1268'), ObjectId('682e4ea97310e42d2f4b1269'), ObjectId('682e4ea97310e42d2f4b126a'), ObjectId('682e4ea97310e42d2f4b126b'), ObjectId('682e4ea97310e42d2f4b126c'), ObjectId('682e4ea97310e42d2f4b126d'), ObjectId('682e4ea97310e42d2f4b126e'), ObjectId('682e4ea97310e42d2f4b126f'), ObjectId('682e4ea97310e42d2f4b1270'), ObjectId('682e4ea97310e42d2f4b1271'), ObjectId('682e4ea97310e42d2f4b1272'), ObjectId('682e4ea97310e42d2f4b1273'), ObjectId('682e4ea97310e42d2f4b1274'), ObjectId('682e4ea97310e42d2f4b1275'), ObjectId('682e4ea97310e42d2f4b1276'), ObjectId('682e4ea97310e42d2f4b1277'), ObjectId('682e4ea97310e42d2f4b1278'), ObjectId('682e4ea97310e42d2f4b1279'), ObjectId('682e4ea97310e42d2f4b127a'), ObjectId('682e4ea97310e42d2f4b127b'), ObjectId('682e4ea97310e42d2f4b127c'), ObjectId('682e4ea97310e42d2f4b127d'), ObjectId('682e4ea97310e42d2f4b127e'), ObjectId('682e4ea97310e42d2f4b127f'), ObjectId('682e4ea97310e42d2f4b1280'), ObjectId('682e4ea97310e42d2f4b1281'), ObjectId('682e4ea97310e42d2f4b1282'), ObjectId('682e4ea97310e42d2f4b1283'), ObjectId('682e4ea97310e42d2f4b1284'), ObjectId('682e4ea97310e42d2f4b1285'), ObjectId('682e4ea97310e42d2f4b1286'), ObjectId('682e4ea97310e42d2f4b1287'), ObjectId('682e4ea97310e42d2f4b1288'), ObjectId('682e4ea97310e42d2f4b1289'), ObjectId('682e4ea97310e42d2f4b128a'), ObjectId('682e4ea97310e42d2f4b128b'), ObjectId('682e4ea97310e42d2f4b128c'), ObjectId('682e4ea97310e42d2f4b128d'), ObjectId('682e4ea97310e42d2f4b128e'), ObjectId('682e4ea97310e42d2f4b128f'), ObjectId('682e4ea97310e42d2f4b1290'), ObjectId('682e4ea97310e42d2f4b1291'), ObjectId('682e4ea97310e42d2f4b1292'), ObjectId('682e4ea97310e42d2f4b1293'), ObjectId('682e4ea97310e42d2f4b1294'), ObjectId('682e4ea97310e42d2f4b1295'), ObjectId('682e4ea97310e42d2f4b1296'), ObjectId('682e4ea97310e42d2f4b1297'), ObjectId('682e4ea97310e42d2f4b1298'), ObjectId('682e4ea97310e42d2f4b1299'), ObjectId('682e4ea97310e42d2f4b129a'), ObjectId('682e4ea97310e42d2f4b129b'), ObjectId('682e4ea97310e42d2f4b129c'), ObjectId('682e4ea97310e42d2f4b129d'), ObjectId('682e4ea97310e42d2f4b129e'), ObjectId('682e4ea97310e42d2f4b129f'), ObjectId('682e4ea97310e42d2f4b12a0'), ObjectId('682e4ea97310e42d2f4b12a1'), ObjectId('682e4ea97310e42d2f4b12a2'), ObjectId('682e4ea97310e42d2f4b12a3'), ObjectId('682e4ea97310e42d2f4b12a4'), ObjectId('682e4ea97310e42d2f4b12a5'), ObjectId('682e4ea97310e42d2f4b12a6'), ObjectId('682e4ea97310e42d2f4b12a7'), ObjectId('682e4ea97310e42d2f4b12a8'), ObjectId('682e4ea97310e42d2f4b12a9'), ObjectId('682e4ea97310e42d2f4b12aa'), ObjectId('682e4ea97310e42d2f4b12ab'), ObjectId('682e4ea97310e42d2f4b12ac'), ObjectId('682e4ea97310e42d2f4b12ad'), ObjectId('682e4ea97310e42d2f4b12ae'), ObjectId('682e4ea97310e42d2f4b12af'), ObjectId('682e4ea97310e42d2f4b12b0'), ObjectId('682e4ea97310e42d2f4b12b1'), ObjectId('682e4ea97310e42d2f4b12b2'), ObjectId('682e4ea97310e42d2f4b12b3'), ObjectId('682e4ea97310e42d2f4b12b4'), ObjectId('682e4ea97310e42d2f4b12b5'), ObjectId('682e4ea97310e42d2f4b12b6'), ObjectId('682e4ea97310e42d2f4b12b7'), ObjectId('682e4ea97310e42d2f4b12b8'), ObjectId('682e4ea97310e42d2f4b12b9'), ObjectId('682e4ea97310e42d2f4b12ba'), ObjectId('682e4ea97310e42d2f4b12bb'), ObjectId('682e4ea97310e42d2f4b12bc'), ObjectId('682e4ea97310e42d2f4b12bd'), ObjectId('682e4ea97310e42d2f4b12be'), ObjectId('682e4ea97310e42d2f4b12bf'), ObjectId('682e4ea97310e42d2f4b12c0'), ObjectId('682e4ea97310e42d2f4b12c1'), ObjectId('682e4ea97310e42d2f4b12c2'), ObjectId('682e4ea97310e42d2f4b12c3'), ObjectId('682e4ea97310e42d2f4b12c4'), ObjectId('682e4ea97310e42d2f4b12c5'), ObjectId('682e4ea97310e42d2f4b12c6'), ObjectId('682e4ea97310e42d2f4b12c7'), ObjectId('682e4ea97310e42d2f4b12c8'), ObjectId('682e4ea97310e42d2f4b12c9'), ObjectId('682e4ea97310e42d2f4b12ca'), ObjectId('682e4ea97310e42d2f4b12cb'), ObjectId('682e4ea97310e42d2f4b12cc'), ObjectId('682e4ea97310e42d2f4b12cd'), ObjectId('682e4ea97310e42d2f4b12ce'), ObjectId('682e4ea97310e42d2f4b12cf'), ObjectId('682e4ea97310e42d2f4b12d0'), ObjectId('682e4ea97310e42d2f4b12d1'), ObjectId('682e4ea97310e42d2f4b12d2'), ObjectId('682e4ea97310e42d2f4b12d3'), ObjectId('682e4ea97310e42d2f4b12d4'), ObjectId('682e4ea97310e42d2f4b12d5'), ObjectId('682e4ea97310e42d2f4b12d6'), ObjectId('682e4ea97310e42d2f4b12d7'), ObjectId('682e4ea97310e42d2f4b12d8'), ObjectId('682e4ea97310e42d2f4b12d9'), ObjectId('682e4ea97310e42d2f4b12da'), ObjectId('682e4ea97310e42d2f4b12db'), ObjectId('682e4ea97310e42d2f4b12dc'), ObjectId('682e4ea97310e42d2f4b12dd'), ObjectId('682e4ea97310e42d2f4b12de'), ObjectId('682e4ea97310e42d2f4b12df'), ObjectId('682e4ea97310e42d2f4b12e0'), ObjectId('682e4ea97310e42d2f4b12e1'), ObjectId('682e4ea97310e42d2f4b12e2'), ObjectId('682e4ea97310e42d2f4b12e3'), ObjectId('682e4ea97310e42d2f4b12e4'), ObjectId('682e4ea97310e42d2f4b12e5'), ObjectId('682e4ea97310e42d2f4b12e6'), ObjectId('682e4ea97310e42d2f4b12e7'), ObjectId('682e4ea97310e42d2f4b12e8'), ObjectId('682e4ea97310e42d2f4b12e9'), ObjectId('682e4ea97310e42d2f4b12ea'), ObjectId('682e4ea97310e42d2f4b12eb'), ObjectId('682e4ea97310e42d2f4b12ec'), ObjectId('682e4ea97310e42d2f4b12ed'), ObjectId('682e4ea97310e42d2f4b12ee'), ObjectId('682e4ea97310e42d2f4b12ef'), ObjectId('682e4ea97310e42d2f4b12f0'), ObjectId('682e4ea97310e42d2f4b12f1'), ObjectId('682e4ea97310e42d2f4b12f2'), ObjectId('682e4ea97310e42d2f4b12f3'), ObjectId('682e4ea97310e42d2f4b12f4'), ObjectId('682e4ea97310e42d2f4b12f5'), ObjectId('682e4ea97310e42d2f4b12f6'), ObjectId('682e4ea97310e42d2f4b12f7'), ObjectId('682e4ea97310e42d2f4b12f8'), ObjectId('682e4ea97310e42d2f4b12f9'), ObjectId('682e4ea97310e42d2f4b12fa'), ObjectId('682e4ea97310e42d2f4b12fb'), ObjectId('682e4ea97310e42d2f4b12fc'), ObjectId('682e4ea97310e42d2f4b12fd'), ObjectId('682e4ea97310e42d2f4b12fe'), ObjectId('682e4ea97310e42d2f4b12ff'), ObjectId('682e4ea97310e42d2f4b1300'), ObjectId('682e4ea97310e42d2f4b1301'), ObjectId('682e4ea97310e42d2f4b1302'), ObjectId('682e4ea97310e42d2f4b1303'), ObjectId('682e4ea97310e42d2f4b1304'), ObjectId('682e4ea97310e42d2f4b1305'), ObjectId('682e4ea97310e42d2f4b1306'), ObjectId('682e4ea97310e42d2f4b1307'), ObjectId('682e4ea97310e42d2f4b1308'), ObjectId('682e4ea97310e42d2f4b1309'), ObjectId('682e4ea97310e42d2f4b130a'), ObjectId('682e4ea97310e42d2f4b130b'), ObjectId('682e4ea97310e42d2f4b130c'), ObjectId('682e4ea97310e42d2f4b130d'), ObjectId('682e4ea97310e42d2f4b130e'), ObjectId('682e4ea97310e42d2f4b130f'), ObjectId('682e4ea97310e42d2f4b1310'), ObjectId('682e4ea97310e42d2f4b1311'), ObjectId('682e4ea97310e42d2f4b1312'), ObjectId('682e4ea97310e42d2f4b1313'), ObjectId('682e4ea97310e42d2f4b1314'), ObjectId('682e4ea97310e42d2f4b1315'), ObjectId('682e4ea97310e42d2f4b1316'), ObjectId('682e4ea97310e42d2f4b1317'), ObjectId('682e4ea97310e42d2f4b1318'), ObjectId('682e4ea97310e42d2f4b1319'), ObjectId('682e4ea97310e42d2f4b131a'), ObjectId('682e4ea97310e42d2f4b131b'), ObjectId('682e4ea97310e42d2f4b131c'), ObjectId('682e4ea97310e42d2f4b131d'), ObjectId('682e4ea97310e42d2f4b131e'), ObjectId('682e4ea97310e42d2f4b131f'), ObjectId('682e4ea97310e42d2f4b1320'), ObjectId('682e4ea97310e42d2f4b1321'), ObjectId('682e4ea97310e42d2f4b1322'), ObjectId('682e4ea97310e42d2f4b1323'), ObjectId('682e4ea97310e42d2f4b1324'), ObjectId('682e4ea97310e42d2f4b1325'), ObjectId('682e4ea97310e42d2f4b1326'), ObjectId('682e4ea97310e42d2f4b1327'), ObjectId('682e4ea97310e42d2f4b1328'), ObjectId('682e4ea97310e42d2f4b1329'), ObjectId('682e4ea97310e42d2f4b132a'), ObjectId('682e4ea97310e42d2f4b132b'), ObjectId('682e4ea97310e42d2f4b132c'), ObjectId('682e4ea97310e42d2f4b132d'), ObjectId('682e4ea97310e42d2f4b132e'), ObjectId('682e4ea97310e42d2f4b132f'), ObjectId('682e4ea97310e42d2f4b1330'), ObjectId('682e4ea97310e42d2f4b1331'), ObjectId('682e4ea97310e42d2f4b1332'), ObjectId('682e4ea97310e42d2f4b1333'), ObjectId('682e4ea97310e42d2f4b1334'), ObjectId('682e4ea97310e42d2f4b1335'), ObjectId('682e4ea97310e42d2f4b1336'), ObjectId('682e4ea97310e42d2f4b1337'), ObjectId('682e4ea97310e42d2f4b1338'), ObjectId('682e4ea97310e42d2f4b1339'), ObjectId('682e4ea97310e42d2f4b133a'), ObjectId('682e4ea97310e42d2f4b133b'), ObjectId('682e4ea97310e42d2f4b133c'), ObjectId('682e4ea97310e42d2f4b133d'), ObjectId('682e4ea97310e42d2f4b133e'), ObjectId('682e4ea97310e42d2f4b133f'), ObjectId('682e4ea97310e42d2f4b1340'), ObjectId('682e4ea97310e42d2f4b1341'), ObjectId('682e4ea97310e42d2f4b1342'), ObjectId('682e4ea97310e42d2f4b1343'), ObjectId('682e4ea97310e42d2f4b1344'), ObjectId('682e4ea97310e42d2f4b1345'), ObjectId('682e4ea97310e42d2f4b1346'), ObjectId('682e4ea97310e42d2f4b1347'), ObjectId('682e4ea97310e42d2f4b1348'), ObjectId('682e4ea97310e42d2f4b1349'), ObjectId('682e4ea97310e42d2f4b134a'), ObjectId('682e4ea97310e42d2f4b134b'), ObjectId('682e4ea97310e42d2f4b134c'), ObjectId('682e4ea97310e42d2f4b134d'), ObjectId('682e4ea97310e42d2f4b134e'), ObjectId('682e4ea97310e42d2f4b134f'), ObjectId('682e4ea97310e42d2f4b1350'), ObjectId('682e4ea97310e42d2f4b1351'), ObjectId('682e4ea97310e42d2f4b1352'), ObjectId('682e4ea97310e42d2f4b1353'), ObjectId('682e4ea97310e42d2f4b1354'), ObjectId('682e4ea97310e42d2f4b1355'), ObjectId('682e4ea97310e42d2f4b1356'), ObjectId('682e4ea97310e42d2f4b1357'), ObjectId('682e4ea97310e42d2f4b1358'), ObjectId('682e4ea97310e42d2f4b1359'), ObjectId('682e4ea97310e42d2f4b135a'), ObjectId('682e4ea97310e42d2f4b135b'), ObjectId('682e4ea97310e42d2f4b135c'), ObjectId('682e4ea97310e42d2f4b135d'), ObjectId('682e4ea97310e42d2f4b135e'), ObjectId('682e4ea97310e42d2f4b135f'), ObjectId('682e4ea97310e42d2f4b1360'), ObjectId('682e4ea97310e42d2f4b1361'), ObjectId('682e4ea97310e42d2f4b1362'), ObjectId('682e4ea97310e42d2f4b1363'), ObjectId('682e4ea97310e42d2f4b1364'), ObjectId('682e4ea97310e42d2f4b1365'), ObjectId('682e4ea97310e42d2f4b1366'), ObjectId('682e4ea97310e42d2f4b1367'), ObjectId('682e4ea97310e42d2f4b1368'), ObjectId('682e4ea97310e42d2f4b1369'), ObjectId('682e4ea97310e42d2f4b136a'), ObjectId('682e4ea97310e42d2f4b136b'), ObjectId('682e4ea97310e42d2f4b136c'), ObjectId('682e4ea97310e42d2f4b136d'), ObjectId('682e4ea97310e42d2f4b136e'), ObjectId('682e4ea97310e42d2f4b136f'), ObjectId('682e4ea97310e42d2f4b1370'), ObjectId('682e4ea97310e42d2f4b1371'), ObjectId('682e4ea97310e42d2f4b1372'), ObjectId('682e4ea97310e42d2f4b1373'), ObjectId('682e4ea97310e42d2f4b1374'), ObjectId('682e4ea97310e42d2f4b1375'), ObjectId('682e4ea97310e42d2f4b1376'), ObjectId('682e4ea97310e42d2f4b1377'), ObjectId('682e4ea97310e42d2f4b1378'), ObjectId('682e4ea97310e42d2f4b1379'), ObjectId('682e4ea97310e42d2f4b137a'), ObjectId('682e4ea97310e42d2f4b137b'), ObjectId('682e4ea97310e42d2f4b137c'), ObjectId('682e4ea97310e42d2f4b137d'), ObjectId('682e4ea97310e42d2f4b137e'), ObjectId('682e4ea97310e42d2f4b137f'), ObjectId('682e4ea97310e42d2f4b1380'), ObjectId('682e4ea97310e42d2f4b1381'), ObjectId('682e4ea97310e42d2f4b1382'), ObjectId('682e4ea97310e42d2f4b1383'), ObjectId('682e4ea97310e42d2f4b1384'), ObjectId('682e4ea97310e42d2f4b1385'), ObjectId('682e4ea97310e42d2f4b1386'), ObjectId('682e4ea97310e42d2f4b1387'), ObjectId('682e4ea97310e42d2f4b1388'), ObjectId('682e4ea97310e42d2f4b1389'), ObjectId('682e4ea97310e42d2f4b138a'), ObjectId('682e4ea97310e42d2f4b138b'), ObjectId('682e4ea97310e42d2f4b138c'), ObjectId('682e4ea97310e42d2f4b138d'), ObjectId('682e4ea97310e42d2f4b138e'), ObjectId('682e4ea97310e42d2f4b138f'), ObjectId('682e4ea97310e42d2f4b1390'), ObjectId('682e4ea97310e42d2f4b1391'), ObjectId('682e4ea97310e42d2f4b1392'), ObjectId('682e4ea97310e42d2f4b1393'), ObjectId('682e4ea97310e42d2f4b1394'), ObjectId('682e4ea97310e42d2f4b1395'), ObjectId('682e4ea97310e42d2f4b1396'), ObjectId('682e4ea97310e42d2f4b1397'), ObjectId('682e4ea97310e42d2f4b1398'), ObjectId('682e4ea97310e42d2f4b1399'), ObjectId('682e4ea97310e42d2f4b139a'), ObjectId('682e4ea97310e42d2f4b139b'), ObjectId('682e4ea97310e42d2f4b139c'), ObjectId('682e4ea97310e42d2f4b139d'), ObjectId('682e4ea97310e42d2f4b139e'), ObjectId('682e4ea97310e42d2f4b139f'), ObjectId('682e4ea97310e42d2f4b13a0'), ObjectId('682e4ea97310e42d2f4b13a1'), ObjectId('682e4ea97310e42d2f4b13a2'), ObjectId('682e4ea97310e42d2f4b13a3'), ObjectId('682e4ea97310e42d2f4b13a4'), ObjectId('682e4ea97310e42d2f4b13a5'), ObjectId('682e4ea97310e42d2f4b13a6'), ObjectId('682e4ea97310e42d2f4b13a7'), ObjectId('682e4ea97310e42d2f4b13a8'), ObjectId('682e4ea97310e42d2f4b13a9'), ObjectId('682e4ea97310e42d2f4b13aa'), ObjectId('682e4ea97310e42d2f4b13ab'), ObjectId('682e4ea97310e42d2f4b13ac'), ObjectId('682e4ea97310e42d2f4b13ad'), ObjectId('682e4ea97310e42d2f4b13ae'), ObjectId('682e4ea97310e42d2f4b13af'), ObjectId('682e4ea97310e42d2f4b13b0'), ObjectId('682e4ea97310e42d2f4b13b1'), ObjectId('682e4ea97310e42d2f4b13b2'), ObjectId('682e4ea97310e42d2f4b13b3'), ObjectId('682e4ea97310e42d2f4b13b4'), ObjectId('682e4ea97310e42d2f4b13b5'), ObjectId('682e4ea97310e42d2f4b13b6'), ObjectId('682e4ea97310e42d2f4b13b7'), ObjectId('682e4ea97310e42d2f4b13b8'), ObjectId('682e4ea97310e42d2f4b13b9'), ObjectId('682e4ea97310e42d2f4b13ba'), ObjectId('682e4ea97310e42d2f4b13bb'), ObjectId('682e4ea97310e42d2f4b13bc'), ObjectId('682e4ea97310e42d2f4b13bd'), ObjectId('682e4ea97310e42d2f4b13be'), ObjectId('682e4ea97310e42d2f4b13bf'), ObjectId('682e4ea97310e42d2f4b13c0'), ObjectId('682e4ea97310e42d2f4b13c1'), ObjectId('682e4ea97310e42d2f4b13c2'), ObjectId('682e4ea97310e42d2f4b13c3'), ObjectId('682e4ea97310e42d2f4b13c4'), ObjectId('682e4ea97310e42d2f4b13c5'), ObjectId('682e4ea97310e42d2f4b13c6'), ObjectId('682e4ea97310e42d2f4b13c7'), ObjectId('682e4ea97310e42d2f4b13c8'), ObjectId('682e4ea97310e42d2f4b13c9'), ObjectId('682e4ea97310e42d2f4b13ca'), ObjectId('682e4ea97310e42d2f4b13cb'), ObjectId('682e4ea97310e42d2f4b13cc'), ObjectId('682e4ea97310e42d2f4b13cd'), ObjectId('682e4ea97310e42d2f4b13ce'), ObjectId('682e4ea97310e42d2f4b13cf'), ObjectId('682e4ea97310e42d2f4b13d0'), ObjectId('682e4ea97310e42d2f4b13d1'), ObjectId('682e4ea97310e42d2f4b13d2'), ObjectId('682e4ea97310e42d2f4b13d3'), ObjectId('682e4ea97310e42d2f4b13d4'), ObjectId('682e4ea97310e42d2f4b13d5'), ObjectId('682e4ea97310e42d2f4b13d6'), ObjectId('682e4ea97310e42d2f4b13d7'), ObjectId('682e4ea97310e42d2f4b13d8'), ObjectId('682e4ea97310e42d2f4b13d9'), ObjectId('682e4ea97310e42d2f4b13da'), ObjectId('682e4ea97310e42d2f4b13db'), ObjectId('682e4ea97310e42d2f4b13dc'), ObjectId('682e4ea97310e42d2f4b13dd'), ObjectId('682e4ea97310e42d2f4b13de'), ObjectId('682e4ea97310e42d2f4b13df'), ObjectId('682e4ea97310e42d2f4b13e0'), ObjectId('682e4ea97310e42d2f4b13e1'), ObjectId('682e4ea97310e42d2f4b13e2'), ObjectId('682e4ea97310e42d2f4b13e3'), ObjectId('682e4ea97310e42d2f4b13e4'), ObjectId('682e4ea97310e42d2f4b13e5'), ObjectId('682e4ea97310e42d2f4b13e6'), ObjectId('682e4ea97310e42d2f4b13e7'), ObjectId('682e4ea97310e42d2f4b13e8'), ObjectId('682e4ea97310e42d2f4b13e9'), ObjectId('682e4ea97310e42d2f4b13ea'), ObjectId('682e4ea97310e42d2f4b13eb'), ObjectId('682e4ea97310e42d2f4b13ec'), ObjectId('682e4ea97310e42d2f4b13ed'), ObjectId('682e4ea97310e42d2f4b13ee'), ObjectId('682e4ea97310e42d2f4b13ef'), ObjectId('682e4ea97310e42d2f4b13f0'), ObjectId('682e4ea97310e42d2f4b13f1'), ObjectId('682e4ea97310e42d2f4b13f2'), ObjectId('682e4ea97310e42d2f4b13f3'), ObjectId('682e4ea97310e42d2f4b13f4'), ObjectId('682e4ea97310e42d2f4b13f5'), ObjectId('682e4ea97310e42d2f4b13f6'), ObjectId('682e4ea97310e42d2f4b13f7'), ObjectId('682e4ea97310e42d2f4b13f8'), ObjectId('682e4ea97310e42d2f4b13f9'), ObjectId('682e4ea97310e42d2f4b13fa'), ObjectId('682e4ea97310e42d2f4b13fb'), ObjectId('682e4ea97310e42d2f4b13fc'), ObjectId('682e4ea97310e42d2f4b13fd'), ObjectId('682e4ea97310e42d2f4b13fe'), ObjectId('682e4ea97310e42d2f4b13ff'), ObjectId('682e4ea97310e42d2f4b1400')], acknowledged=True)"
      ]
     },
     "execution_count": 203,
     "metadata": {},
     "output_type": "execute_result"
    }
   ],
   "source": [
    "client = MongoClient(\"mongodb://localhost:27017/\")\n",
    "db = client[\"air_pm2_5\"] \n",
    "collection = db[\"pollution_summary\"]\n",
    "# Convert DataFrame to dictionary format and insert\n",
    "grouped.to_csv(r\"C:\\Users\\asus\\Desktop\\U22.zip\",index=False)\n",
    "collection.insert_many(grouped.reset_index().to_dict(\"records\"))"
   ]
  },
  {
   "cell_type": "markdown",
   "metadata": {
    "id": "cGy_yddGtzhM"
   },
   "source": [
    "## 5. Answer the research question\n",
    "\n",
    "### **5.1:** Define and answer the research question \n",
    "Going back to the problem statement in step 1, use the cleaned data to answer the question you raised. Produce **at least** two visualizations using the cleaned data and explain how they help you answer the question."
   ]
  },
  {
   "cell_type": "markdown",
   "metadata": {
    "id": "gjedE4s4ZkEd"
   },
   "source": [
    "*Research question:* FILL IN from answer to Step 1"
   ]
  },
  {
   "cell_type": "markdown",
   "metadata": {},
   "source": [
    "#### 1.what are the top 5 most poluted countries"
   ]
  },
  {
   "cell_type": "code",
   "execution_count": 197,
   "metadata": {
    "id": "Lkw3rW9kZmOm"
   },
   "outputs": [
    {
     "name": "stdout",
     "output_type": "stream",
     "text": [
      "Year              2018       2019       2020       2021  averageAQI\n",
      "Country                                                            \n",
      "Bangladesh   97.100000  83.300000  77.100000  52.056897   77.389224\n",
      "Pakistan     74.300000  65.800000  59.000000  72.367290   67.866822\n",
      "India        72.500000  58.100000  51.900000  52.567426   58.766857\n",
      "Chad         53.922727  53.922727  53.922727  53.922727   53.922727\n",
      "Afghanistan  61.800000  58.800000  46.500000  40.869231   51.992308\n"
     ]
    }
   ],
   "source": [
    "# Pivot the data to get years as columns\n",
    "country_pollution = grouped.pivot(index='Country', columns='Year', values='AQI')\n",
    "\n",
    "# Calculate average AQI across all years\n",
    "country_pollution['averageAQI'] = country_pollution.mean(axis=1)\n",
    "\n",
    "# Get top 5 most polluted countries based on average AQI\n",
    "top5_countries = country_pollution.sort_values(by='averageAQI', ascending=False).head(5)\n",
    "\n",
    "print(top5_countries)\n"
   ]
  },
  {
   "cell_type": "code",
   "execution_count": 198,
   "metadata": {},
   "outputs": [
    {
     "data": {
      "image/png": "[encoded data removed]",
      "text/plain": [
       "<Figure size 1000x600 with 1 Axes>"
      ]
     },
     "metadata": {},
     "output_type": "display_data"
    }
   ],
   "source": [
    "\n",
    "plt.figure(figsize=(10, 6))\n",
    "\n",
    "# Use the correct column name: 'averageAQI'\n",
    "bars = plt.bar(top5_countries.index, top5_countries['averageAQI'], color='tomato')\n",
    "\n",
    "# Add value labels on top of each bar\n",
    "for bar in bars:\n",
    "    yval = bar.get_height()\n",
    "    plt.text(bar.get_x() + bar.get_width()/2, yval + 1, f'{yval:.1f}', ha='center', fontsize=12)\n",
    "\n",
    "plt.title('Top 5 Most Polluted Countries by Average AQI (2018–2021)', fontsize=14)\n",
    "plt.xlabel('Country', fontsize=12)\n",
    "plt.ylabel('Average AQI', fontsize=12)\n",
    "plt.xticks(rotation=45)\n",
    "plt.grid(axis='y', linestyle='--', alpha=0.7)\n",
    "\n",
    "plt.tight_layout()\n",
    "plt.show()\n"
   ]
  },
  {
   "cell_type": "markdown",
   "metadata": {},
   "source": [
    "The top 5 most polluted countries in the period(2018-2021):\n",
    "1.Bangladesh   \n",
    "2.Pakistan     \n",
    "3.India       \n",
    "4.Chad      \n",
    "5.Afghanistan"
   ]
  },
  {
   "cell_type": "markdown",
   "metadata": {},
   "source": [
    "#### 2.Was there a significant drop in pollution levels during 2020 (possibly due to COVID-19 lockdowns)?\n"
   ]
  },
  {
   "cell_type": "code",
   "execution_count": 199,
   "metadata": {},
   "outputs": [
    {
     "data": {
      "image/png": "[encoded data removed]",
      "text/plain": [
       "<Figure size 800x500 with 1 Axes>"
      ]
     },
     "metadata": {},
     "output_type": "display_data"
    }
   ],
   "source": [
    "# Compute the global average AQI per year\n",
    "yearly_avg = grouped.groupby('Year')['AQI'].mean()\n",
    "\n",
    "plt.figure(figsize=(8, 5))\n",
    "plt.plot(yearly_avg.index.astype(str), yearly_avg.values, marker='o', linestyle='-', color='teal')\n",
    "plt.title(\"Global Average AQI Levels (2018–2021)\")\n",
    "plt.xlabel(\"Year\")\n",
    "plt.ylabel(\"Average AQI\")\n",
    "plt.grid(True)\n",
    "plt.tight_layout()\n",
    "plt.show()\n"
   ]
  },
  {
   "cell_type": "markdown",
   "metadata": {},
   "source": [
    "there was a huge drop in AQI during the global lockdown"
   ]
  },
  {
   "cell_type": "markdown",
   "metadata": {},
   "source": [
    "#### 3.Which country showed the most improvement or deterioration in air quality over the 4 years?\n",
    "\n"
   ]
  },
  {
   "cell_type": "code",
   "execution_count": 200,
   "metadata": {},
   "outputs": [
    {
     "name": "stdout",
     "output_type": "stream",
     "text": [
      "Index(['2018', '2019', '2020', '2021'], dtype='object', name='Year')\n"
     ]
    },
    {
     "data": {
      "image/png": "[encoded data removed]",
      "text/plain": [
       "<Figure size 1500x600 with 1 Axes>"
      ]
     },
     "metadata": {},
     "output_type": "display_data"
    }
   ],
   "source": [
    "wide_data = grouped.pivot(index='Country', columns='Year', values='AQI')\n",
    "\n",
    "print(wide_data.columns)  # Check if columns are strings or ints\n",
    "\n",
    "# Use string column names if that's what your data has:\n",
    "wide_data['change_2018_2021'] = wide_data['2018'] - wide_data['2021']\n",
    "\n",
    "wide_data = wide_data.dropna(subset=['2018', '2021'])\n",
    "\n",
    "top_improvers = wide_data['change_2018_2021'].sort_values(ascending=False).head(5)\n",
    "top_decliners = wide_data['change_2018_2021'].sort_values(ascending=True).head(5)\n",
    "\n",
    "plt.figure(figsize=(15,6))\n",
    "plt.bar(top_improvers.index, top_improvers.values, color='green', label='Improvement')\n",
    "plt.bar(top_decliners.index, top_decliners.values, color='red', label='Worsening')\n",
    "plt.axhline(0, color='black', linestyle='--')\n",
    "plt.title('Top 5 Countries by AQI Change (2018 to 2021)')\n",
    "plt.ylabel('Change in AQI (2018 - 2021)')\n",
    "plt.xlabel('Country')\n",
    "plt.legend()\n",
    "plt.tight_layout()\n",
    "plt.show()\n"
   ]
  },
  {
   "cell_type": "markdown",
   "metadata": {
    "id": "K5RgvMGUZoHn"
   },
   "source": [
    "#### the country that showed the most improvement and the one that showed the most deterioration in air quality over the 4 years respectfully\n",
    "-Bangladesh and Tajikistan\n"
   ]
  },
  {
   "cell_type": "markdown",
   "metadata": {
    "id": "0ezWXXZVj-TP"
   },
   "source": [
    "### **5.2:** Reflection\n",
    "In 2-4 sentences, if you had more time to complete the project, what actions would you take? For example, which data quality and structural issues would you look into further, and what research questions would you further explore?"
   ]
  },
  {
   "cell_type": "markdown",
   "metadata": {
    "id": "XB3RBDG5kFe1"
   },
   "source": [
    "#### During the data wrangling process, I focused on cleaning and merging datasets to analyze PM2.5 trends across countries. With more time or resources, I would explore additional data sources extending to the current year to examine long-term trends, especially whether the temporary pollution drop during the 2020 COVID-19 lockdown had lasting effects. I would also investigate structural data issues such as inconsistencies in country naming and missing values, and consider incorporating population or industrial data to better understand the drivers of pollution. These enhancements could lead to more accurate insights and uncover deeper relationships between policy, behavior, and air quality."
   ]
  }
 ],
 "metadata": {
  "colab": {
   "provenance": []
  },
  "kernelspec": {
   "display_name": "Python 3",
   "language": "python",
   "name": "python3"
  },
  "language_info": {
   "codemirror_mode": {
    "name": "ipython",
    "version": 3
   },
   "file_extension": ".py",
   "mimetype": "text/x-python",
   "name": "python",
   "nbconvert_exporter": "python",
   "pygments_lexer": "ipython3",
   "version": "3.12.5"
  }
 },
 "nbformat": 4,
 "nbformat_minor": 1
}
