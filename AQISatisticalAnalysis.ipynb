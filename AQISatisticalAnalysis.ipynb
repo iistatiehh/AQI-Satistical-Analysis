{
 "cells": [
  {
   "cell_type": "markdown",
   "metadata": {
    "id": "GNIwe5N7s0e_"
   },
   "source": [
    "# Real-world Data Wrangling"
   ]
  },
  {
   "cell_type": "markdown",
   "metadata": {
    "id": "LbN7z7rcuqpO"
   },
   "source": [
    "This project investigates global air pollution trends with a focus on identifying the most affected countries, assessing the impact of the COVID-19 pandemic on pollution levels, and evaluating how air quality has evolved over time. By analyzing PM2.5 concentration data from multiple years and regions, the study addresses three primary questions:\n",
    "\n",
    "Which countries were the most polluted during the observed period?\n",
    "\n",
    "Was there a significant drop in air pollution in 2020, potentially due to COVID-19 lockdowns?\n",
    "\n",
    "Which countries experienced the greatest improvement or deterioration in air quality between 2018 and 2021?"
   ]
  },
  {
   "cell_type": "markdown",
   "metadata": {},
   "source": [
    " PM2.5 is a major component of air pollution and smog — often produced by vehicle emissions, industrial activity, wildfires, and fossil fuel burning.\n",
    " It’s one of the key indicators used by the World Health Organization and environmental agencies to assess air quality."
   ]
  },
  {
   "cell_type": "markdown",
   "metadata": {
    "id": "8AQfBAdUypMm"
   },
   "source": [
    "### **1.2.** Gather at least two datasets using two different data gathering methods\n",
    "\n",
    "List of data gathering methods:\n",
    "\n",
    "- Download data manually\n",
    "- Programmatically downloading files\n",
    "- Gather data by accessing APIs\n",
    "- Gather and extract data from HTML files using BeautifulSoup\n",
    "- Extract data from a SQL database\n",
    "\n",
    "Each dataset must have at least two variables, and have greater than 500 data samples within each dataset.\n",
    "\n",
    "For each dataset, briefly describe why you picked the dataset and the gathering method (2-3 full sentences), including the names and significance of the variables in the dataset. Show your work (e.g., if using an API to download the data, please include a snippet of your code). \n",
    "\n",
    "Load the dataset programmtically into this notebook."
   ]
  },
  {
   "cell_type": "code",
   "execution_count": 28,
   "metadata": {},
   "outputs": [
    {
     "name": "stdout",
     "output_type": "stream",
     "text": [
      "Requirement already satisfied: pymongo in c:\\users\\asus\\appdata\\local\\programs\\python\\python312\\lib\\site-packages (4.13.0)\n",
      "Requirement already satisfied: dnspython<3.0.0,>=1.16.0 in c:\\users\\asus\\appdata\\local\\programs\\python\\python312\\lib\\site-packages (from pymongo) (2.7.0)\n",
      "Note: you may need to restart the kernel to use updated packages.\n"
     ]
    },
    {
     "name": "stderr",
     "output_type": "stream",
     "text": [
      "\n",
      "[notice] A new release of pip is available: 24.3.1 -> 25.1.1\n",
      "[notice] To update, run: python.exe -m pip install --upgrade pip\n"
     ]
    }
   ],
   "source": [
    "%pip install pymongo\n",
    "import pandas as pd\n",
    "import kagglehub\n",
    "from kagglehub import KaggleDatasetAdapter\n",
    "import os\n",
    "import seaborn as sns\n",
    "import matplotlib.pyplot as plt\n",
    "import numpy as np\n",
    "import pymongo\n",
    "from pymongo import MongoClient\n",
    "import json"
   ]
  },
  {
   "cell_type": "markdown",
   "metadata": {
    "id": "7e6gS0wL1KTu"
   },
   "source": [
    "#### **Dataset 1**\n",
    "\n",
    "Type: CSV File.\n",
    "\n",
    "Method: The data was gathered using the \"Downloading files\" method from Kaggle.\n",
    "\n",
    "Dataset variables:\n",
    "\n",
    "Rank         \n",
    "City         \n",
    "2021         \n",
    "JAN(2021)    \n",
    "FEB(2021)    \n",
    "MAR(2021)    \n",
    "APR(2021)    \n",
    "MAY(2021)    \n",
    "JUN(2021)    \n",
    "JUL(2021)    \n",
    "AUG(2021)    \n",
    "SEP(2021)    \n",
    "OCT(2021)    \n",
    "NOV(2021)    \n",
    "DEC(2021)    \n",
    "2020         \n",
    "2019         \n",
    "2018         \n",
    "2017         "
   ]
  },
  {
   "cell_type": "code",
   "execution_count": 29,
   "metadata": {
    "id": "Su8E0uLuYkHU"
   },
   "outputs": [
    {
     "data": {
      "text/html": [
       "<div>\n",
       "<style scoped>\n",
       "    .dataframe tbody tr th:only-of-type {\n",
       "        vertical-align: middle;\n",
       "    }\n",
       "\n",
       "    .dataframe tbody tr th {\n",
       "        vertical-align: top;\n",
       "    }\n",
       "\n",
       "    .dataframe thead th {\n",
       "        text-align: right;\n",
       "    }\n",
       "</style>\n",
       "<table border=\"1\" class=\"dataframe\">\n",
       "  <thead>\n",
       "    <tr style=\"text-align: right;\">\n",
       "      <th></th>\n",
       "      <th>Rank</th>\n",
       "      <th>City</th>\n",
       "      <th>2021</th>\n",
       "      <th>JAN(2021)</th>\n",
       "      <th>FEB(2021)</th>\n",
       "      <th>MAR(2021)</th>\n",
       "      <th>APR(2021)</th>\n",
       "      <th>MAY(2021)</th>\n",
       "      <th>JUN(2021)</th>\n",
       "      <th>JUL(2021)</th>\n",
       "      <th>AUG(2021)</th>\n",
       "      <th>SEP(2021)</th>\n",
       "      <th>OCT(2021)</th>\n",
       "      <th>NOV(2021)</th>\n",
       "      <th>DEC(2021)</th>\n",
       "      <th>2020</th>\n",
       "      <th>2019</th>\n",
       "      <th>2018</th>\n",
       "      <th>2017</th>\n",
       "    </tr>\n",
       "  </thead>\n",
       "  <tbody>\n",
       "    <tr>\n",
       "      <th>0</th>\n",
       "      <td>1</td>\n",
       "      <td>Bhiwadi, India</td>\n",
       "      <td>106.2</td>\n",
       "      <td>145.8</td>\n",
       "      <td>129.8</td>\n",
       "      <td>120.2</td>\n",
       "      <td>125.7</td>\n",
       "      <td>86.5</td>\n",
       "      <td>95.9</td>\n",
       "      <td>55.6</td>\n",
       "      <td>55.4</td>\n",
       "      <td>37.1</td>\n",
       "      <td>91.1</td>\n",
       "      <td>188.6</td>\n",
       "      <td>136.6</td>\n",
       "      <td>95.5</td>\n",
       "      <td>83.4</td>\n",
       "      <td>125.4</td>\n",
       "      <td>NaN</td>\n",
       "    </tr>\n",
       "    <tr>\n",
       "      <th>1</th>\n",
       "      <td>2</td>\n",
       "      <td>Ghaziabad, India</td>\n",
       "      <td>102.0</td>\n",
       "      <td>199.9</td>\n",
       "      <td>172.2</td>\n",
       "      <td>97.8</td>\n",
       "      <td>86.3</td>\n",
       "      <td>52.9</td>\n",
       "      <td>47.2</td>\n",
       "      <td>35.3</td>\n",
       "      <td>37.6</td>\n",
       "      <td>30.8</td>\n",
       "      <td>89.7</td>\n",
       "      <td>218.3</td>\n",
       "      <td>163</td>\n",
       "      <td>106.6</td>\n",
       "      <td>110.2</td>\n",
       "      <td>135.2</td>\n",
       "      <td>144.6</td>\n",
       "    </tr>\n",
       "    <tr>\n",
       "      <th>2</th>\n",
       "      <td>3</td>\n",
       "      <td>Hotan, China</td>\n",
       "      <td>101.5</td>\n",
       "      <td>NaN</td>\n",
       "      <td>NaN</td>\n",
       "      <td>158</td>\n",
       "      <td>91.1</td>\n",
       "      <td>167.4</td>\n",
       "      <td>57.4</td>\n",
       "      <td>70.9</td>\n",
       "      <td>93.2</td>\n",
       "      <td>79.3</td>\n",
       "      <td>126.1</td>\n",
       "      <td>111.5</td>\n",
       "      <td>62.6</td>\n",
       "      <td>110.2</td>\n",
       "      <td>110.1</td>\n",
       "      <td>116</td>\n",
       "      <td>91.9</td>\n",
       "    </tr>\n",
       "    <tr>\n",
       "      <th>3</th>\n",
       "      <td>4</td>\n",
       "      <td>Delhi, India</td>\n",
       "      <td>96.4</td>\n",
       "      <td>183.7</td>\n",
       "      <td>142.2</td>\n",
       "      <td>80.5</td>\n",
       "      <td>72.9</td>\n",
       "      <td>47.4</td>\n",
       "      <td>47.1</td>\n",
       "      <td>35.6</td>\n",
       "      <td>36.9</td>\n",
       "      <td>30.2</td>\n",
       "      <td>73.7</td>\n",
       "      <td>224.1</td>\n",
       "      <td>186.4</td>\n",
       "      <td>84.1</td>\n",
       "      <td>98.6</td>\n",
       "      <td>113.5</td>\n",
       "      <td>108.2</td>\n",
       "    </tr>\n",
       "    <tr>\n",
       "      <th>4</th>\n",
       "      <td>5</td>\n",
       "      <td>Jaunpur, India</td>\n",
       "      <td>95.3</td>\n",
       "      <td>182.2</td>\n",
       "      <td>143.5</td>\n",
       "      <td>91</td>\n",
       "      <td>70</td>\n",
       "      <td>51.1</td>\n",
       "      <td>40.7</td>\n",
       "      <td>33.5</td>\n",
       "      <td>34.2</td>\n",
       "      <td>36.8</td>\n",
       "      <td>75.7</td>\n",
       "      <td>196</td>\n",
       "      <td>195.7</td>\n",
       "      <td>NaN</td>\n",
       "      <td>NaN</td>\n",
       "      <td>NaN</td>\n",
       "      <td>NaN</td>\n",
       "    </tr>\n",
       "    <tr>\n",
       "      <th>...</th>\n",
       "      <td>...</td>\n",
       "      <td>...</td>\n",
       "      <td>...</td>\n",
       "      <td>...</td>\n",
       "      <td>...</td>\n",
       "      <td>...</td>\n",
       "      <td>...</td>\n",
       "      <td>...</td>\n",
       "      <td>...</td>\n",
       "      <td>...</td>\n",
       "      <td>...</td>\n",
       "      <td>...</td>\n",
       "      <td>...</td>\n",
       "      <td>...</td>\n",
       "      <td>...</td>\n",
       "      <td>...</td>\n",
       "      <td>...</td>\n",
       "      <td>...</td>\n",
       "      <td>...</td>\n",
       "    </tr>\n",
       "    <tr>\n",
       "      <th>6470</th>\n",
       "      <td>6471</td>\n",
       "      <td>Mornington, Australia</td>\n",
       "      <td>2.4</td>\n",
       "      <td>2</td>\n",
       "      <td>1.9</td>\n",
       "      <td>2.3</td>\n",
       "      <td>2.1</td>\n",
       "      <td>3.2</td>\n",
       "      <td>3.6</td>\n",
       "      <td>4.3</td>\n",
       "      <td>2.1</td>\n",
       "      <td>2.1</td>\n",
       "      <td>1.7</td>\n",
       "      <td>2</td>\n",
       "      <td>1.9</td>\n",
       "      <td>3.2</td>\n",
       "      <td>3.8</td>\n",
       "      <td>3</td>\n",
       "      <td>3.9</td>\n",
       "    </tr>\n",
       "    <tr>\n",
       "      <th>6471</th>\n",
       "      <td>6472</td>\n",
       "      <td>Emu River, Australia</td>\n",
       "      <td>2.1</td>\n",
       "      <td>1.9</td>\n",
       "      <td>1.8</td>\n",
       "      <td>2</td>\n",
       "      <td>2.6</td>\n",
       "      <td>3.4</td>\n",
       "      <td>2.6</td>\n",
       "      <td>1.9</td>\n",
       "      <td>2.1</td>\n",
       "      <td>2.2</td>\n",
       "      <td>1.5</td>\n",
       "      <td>1.4</td>\n",
       "      <td>1.5</td>\n",
       "      <td>2.6</td>\n",
       "      <td>2.5</td>\n",
       "      <td>2.6</td>\n",
       "      <td>2.3</td>\n",
       "    </tr>\n",
       "    <tr>\n",
       "      <th>6472</th>\n",
       "      <td>6473</td>\n",
       "      <td>Judbury, Australia</td>\n",
       "      <td>2.0</td>\n",
       "      <td>1.6</td>\n",
       "      <td>1.5</td>\n",
       "      <td>2.1</td>\n",
       "      <td>1.5</td>\n",
       "      <td>4.1</td>\n",
       "      <td>2</td>\n",
       "      <td>2.2</td>\n",
       "      <td>2.2</td>\n",
       "      <td>1.7</td>\n",
       "      <td>1.5</td>\n",
       "      <td>1.4</td>\n",
       "      <td>1.7</td>\n",
       "      <td>2.4</td>\n",
       "      <td>5.7</td>\n",
       "      <td>2.2</td>\n",
       "      <td>1.9</td>\n",
       "    </tr>\n",
       "    <tr>\n",
       "      <th>6473</th>\n",
       "      <td>6474</td>\n",
       "      <td>St Helens, Australia</td>\n",
       "      <td>1.9</td>\n",
       "      <td>1.8</td>\n",
       "      <td>2.1</td>\n",
       "      <td>2</td>\n",
       "      <td>2.4</td>\n",
       "      <td>2.7</td>\n",
       "      <td>1.6</td>\n",
       "      <td>1.6</td>\n",
       "      <td>1.6</td>\n",
       "      <td>1.9</td>\n",
       "      <td>1.6</td>\n",
       "      <td>2.4</td>\n",
       "      <td>1.6</td>\n",
       "      <td>2.4</td>\n",
       "      <td>2.4</td>\n",
       "      <td>2.9</td>\n",
       "      <td>3.3</td>\n",
       "    </tr>\n",
       "    <tr>\n",
       "      <th>6474</th>\n",
       "      <td>6475</td>\n",
       "      <td>Chu, Kazakhstan</td>\n",
       "      <td>1.5</td>\n",
       "      <td>1.5</td>\n",
       "      <td>1.6</td>\n",
       "      <td>1.6</td>\n",
       "      <td>1.5</td>\n",
       "      <td>1.5</td>\n",
       "      <td>1.5</td>\n",
       "      <td>1.5</td>\n",
       "      <td>1.6</td>\n",
       "      <td>1.5</td>\n",
       "      <td>1.5</td>\n",
       "      <td>1.5</td>\n",
       "      <td>1.5</td>\n",
       "      <td>NaN</td>\n",
       "      <td>NaN</td>\n",
       "      <td>NaN</td>\n",
       "      <td>NaN</td>\n",
       "    </tr>\n",
       "  </tbody>\n",
       "</table>\n",
       "<p>6475 rows × 19 columns</p>\n",
       "</div>"
      ],
      "text/plain": [
       "      Rank                   City   2021 JAN(2021) FEB(2021) MAR(2021)  \\\n",
       "0        1         Bhiwadi, India  106.2     145.8     129.8     120.2   \n",
       "1        2       Ghaziabad, India  102.0     199.9     172.2      97.8   \n",
       "2        3           Hotan, China  101.5       NaN       NaN       158   \n",
       "3        4           Delhi, India   96.4     183.7     142.2      80.5   \n",
       "4        5         Jaunpur, India   95.3     182.2     143.5        91   \n",
       "...    ...                    ...    ...       ...       ...       ...   \n",
       "6470  6471  Mornington, Australia    2.4         2       1.9       2.3   \n",
       "6471  6472   Emu River, Australia    2.1       1.9       1.8         2   \n",
       "6472  6473     Judbury, Australia    2.0       1.6       1.5       2.1   \n",
       "6473  6474   St Helens, Australia    1.9       1.8       2.1         2   \n",
       "6474  6475        Chu, Kazakhstan    1.5       1.5       1.6       1.6   \n",
       "\n",
       "     APR(2021) MAY(2021) JUN(2021) JUL(2021) AUG(2021) SEP(2021) OCT(2021)  \\\n",
       "0        125.7      86.5      95.9      55.6      55.4      37.1      91.1   \n",
       "1         86.3      52.9      47.2      35.3      37.6      30.8      89.7   \n",
       "2         91.1     167.4      57.4      70.9      93.2      79.3     126.1   \n",
       "3         72.9      47.4      47.1      35.6      36.9      30.2      73.7   \n",
       "4           70      51.1      40.7      33.5      34.2      36.8      75.7   \n",
       "...        ...       ...       ...       ...       ...       ...       ...   \n",
       "6470       2.1       3.2       3.6       4.3       2.1       2.1       1.7   \n",
       "6471       2.6       3.4       2.6       1.9       2.1       2.2       1.5   \n",
       "6472       1.5       4.1         2       2.2       2.2       1.7       1.5   \n",
       "6473       2.4       2.7       1.6       1.6       1.6       1.9       1.6   \n",
       "6474       1.5       1.5       1.5       1.5       1.6       1.5       1.5   \n",
       "\n",
       "     NOV(2021) DEC(2021)   2020   2019   2018   2017  \n",
       "0        188.6     136.6   95.5   83.4  125.4    NaN  \n",
       "1        218.3       163  106.6  110.2  135.2  144.6  \n",
       "2        111.5      62.6  110.2  110.1    116   91.9  \n",
       "3        224.1     186.4   84.1   98.6  113.5  108.2  \n",
       "4          196     195.7    NaN    NaN    NaN    NaN  \n",
       "...        ...       ...    ...    ...    ...    ...  \n",
       "6470         2       1.9    3.2    3.8      3    3.9  \n",
       "6471       1.4       1.5    2.6    2.5    2.6    2.3  \n",
       "6472       1.4       1.7    2.4    5.7    2.2    1.9  \n",
       "6473       2.4       1.6    2.4    2.4    2.9    3.3  \n",
       "6474       1.5       1.5    NaN    NaN    NaN    NaN  \n",
       "\n",
       "[6475 rows x 19 columns]"
      ]
     },
     "execution_count": 29,
     "metadata": {},
     "output_type": "execute_result"
    }
   ],
   "source": [
    "#Loading data locally\n",
    "data=pd.read_csv(r\"AIR QUALITY INDEX (by cities) - IQAir.csv\")\n",
    "data.replace('-', np.nan, inplace=True)\n",
    "data\n"
   ]
  },
  {
   "cell_type": "markdown",
   "metadata": {
    "id": "hoUjq1tPzz7P"
   },
   "source": [
    "#### Dataset 2\n",
    "\n",
    "Type: CSV File.\n",
    "\n",
    "Method:  The data was gathered using the API method from Kaggle.\n",
    "\n",
    "Dataset variables:\n",
    "\n",
    "Rank              \n",
    "Country/Region    \n",
    "2021              \n",
    "2020              \n",
    "2019              \n",
    "2018              \n",
    "Population  "
   ]
  },
  {
   "cell_type": "code",
   "execution_count": 30,
   "metadata": {
    "id": "6zT0QxRyYmm7"
   },
   "outputs": [
    {
     "name": "stderr",
     "output_type": "stream",
     "text": [
      "C:\\Users\\asus\\AppData\\Local\\Temp\\ipykernel_1612\\69522270.py:6: DeprecationWarning: load_dataset is deprecated and will be removed in a future version.\n",
      "  data2 = kagglehub.load_dataset(\n"
     ]
    },
    {
     "name": "stdout",
     "output_type": "stream",
     "text": [
      "First 5 records:\n",
      "   Rank Country/Region  2021  2020  2019  2018     Population\n",
      "0     1     Bangladesh  76.9  77.1  83.3  97.1    164,689,383\n",
      "1     2           Chad  75.9     -     -     -     16,425,859\n",
      "2     3       Pakistan  66.8    59  65.8  74.3    220,892,331\n",
      "3     4     Tajikistan  59.4  30.9     -     -      9,537,642\n",
      "4     5          India  58.1  51.9  58.1  72.5  1,380,004,385\n",
      "\n",
      "Dataset saved to: C:\\Users\\asus\\Desktop\\polluted_cities.csv\n"
     ]
    }
   ],
   "source": [
    "#Loading dataset 2 using api\n",
    "os.makedirs(os.path.expanduser(\"~/.cache/kagglehub\"), exist_ok=True)\n",
    "\n",
    "file_path = \"AIR QUALITY INDEX- top countries.csv\"\n",
    "\n",
    "data2 = kagglehub.load_dataset(\n",
    "    KaggleDatasetAdapter.PANDAS,\n",
    "    \n",
    "    \"ramjasmaurya/most-polluted-cities-and-countries-iqair-index\",\n",
    "    file_path\n",
    ")\n",
    "\n",
    "print(\"First 5 records:\")\n",
    "print(data2.head())\n",
    "\n",
    "\n",
    "desktop_path = os.path.join(os.path.expanduser(\"~\"), \"Desktop\", \"polluted_cities.csv\")\n",
    "data2.to_csv(desktop_path, index=False)\n",
    "print(f\"\\nDataset saved to: {desktop_path}\")\n"
   ]
  },
  {
   "cell_type": "markdown",
   "metadata": {
    "id": "QwSWIVmotLgV"
   },
   "source": [
    "## 2. Assess data\n",
    "\n",
    "Assess the data according to data quality and tidiness metrics using the report below.\n",
    "\n",
    "List **two** data quality issues and **two** tidiness issues. Assess each data issue visually **and** programmatically, then briefly describe the issue you find.  **Make sure you include justifications for the methods you use for the assessment.**"
   ]
  },
  {
   "cell_type": "markdown",
   "metadata": {
    "id": "adaK2iPNzVu4"
   },
   "source": [
    "### Quality Issue 1:\n",
    "Missing Values Represented as Dashes"
   ]
  },
  {
   "cell_type": "code",
   "execution_count": 31,
   "metadata": {},
   "outputs": [
    {
     "name": "stdout",
     "output_type": "stream",
     "text": [
      "Dataset 1 - Checking for dash characters:\n",
      "Rank         0\n",
      "City         0\n",
      "2021         0\n",
      "JAN(2021)    0\n",
      "FEB(2021)    0\n",
      "MAR(2021)    0\n",
      "APR(2021)    0\n",
      "MAY(2021)    0\n",
      "JUN(2021)    0\n",
      "JUL(2021)    0\n",
      "AUG(2021)    0\n",
      "SEP(2021)    0\n",
      "OCT(2021)    0\n",
      "NOV(2021)    0\n",
      "DEC(2021)    0\n",
      "2020         0\n",
      "2019         0\n",
      "2018         0\n",
      "2017         0\n",
      "dtype: int64\n",
      "\n",
      "Dataset 2 - Checking for dash characters:\n",
      "Rank               0\n",
      "Country/Region     0\n",
      "2021               0\n",
      "2020              17\n",
      "2019              27\n",
      "2018              46\n",
      "Population         0\n",
      "dtype: int64\n"
     ]
    }
   ],
   "source": [
    "print(\"Dataset 1 - Checking for dash characters:\")\n",
    "print(data.isin(['-']).sum())\n",
    "print(\"\\nDataset 2 - Checking for dash characters:\")\n",
    "print(data2.isin(['-']).sum())\n",
    "\n"
   ]
  },
  {
   "cell_type": "code",
   "execution_count": 32,
   "metadata": {
    "id": "-qfcocStzsKg"
   },
   "outputs": [
    {
     "data": {
      "image/png": "[encoded data removed]",
      "text/plain": [
       "<Figure size 1500x800 with 4 Axes>"
      ]
     },
     "metadata": {},
     "output_type": "display_data"
    }
   ],
   "source": [
    "# Visual inspection\n",
    "plt.figure(figsize=(15, 8))\n",
    "plt.subplot(1, 2, 1)\n",
    "sns.heatmap(data.isin(['-']), cbar=True, cmap='Reds', yticklabels=False)\n",
    "plt.title(\"Dataset 1: Dash Characters Heatmap\")\n",
    "\n",
    "plt.subplot(1, 2, 2)\n",
    "sns.heatmap(data2.isin(['-']), cbar=True, cmap='Reds', yticklabels=False)\n",
    "plt.title(\"Dataset 2: Dash Characters Heatmap\")\n",
    "plt.tight_layout()\n",
    "plt.show()"
   ]
  },
  {
   "cell_type": "markdown",
   "metadata": {},
   "source": [
    "### **Quality Issue 1 Justification:** \n",
    "The datasets use dash characters ('-') to represent missing values instead of proper NaN values. This is a **validity issue** because the data doesn't conform to standard missing value representation, making it impossible to perform numerical operations or statistical analysis on these columns.\n"
   ]
  },
  {
   "cell_type": "markdown",
   "metadata": {
    "id": "8Be77N4I1AmE"
   },
   "source": [
    "### Quality Issue 2:\n",
    " Incorrect Data Types"
   ]
  },
  {
   "cell_type": "code",
   "execution_count": 33,
   "metadata": {
    "id": "bnviRCUI-bb7"
   },
   "outputs": [
    {
     "name": "stdout",
     "output_type": "stream",
     "text": [
      "Dataset 1 data types:\n",
      "Rank           int64\n",
      "City          object\n",
      "2021         float64\n",
      "JAN(2021)     object\n",
      "FEB(2021)     object\n",
      "MAR(2021)     object\n",
      "APR(2021)     object\n",
      "MAY(2021)     object\n",
      "JUN(2021)     object\n",
      "JUL(2021)     object\n",
      "AUG(2021)     object\n",
      "SEP(2021)     object\n",
      "OCT(2021)     object\n",
      "NOV(2021)     object\n",
      "DEC(2021)     object\n",
      "2020          object\n",
      "2019          object\n",
      "2018          object\n",
      "2017          object\n",
      "dtype: object\n",
      "\n",
      "Dataset 2 data types:\n",
      "Rank                int64\n",
      "Country/Region     object\n",
      "2021              float64\n",
      "2020               object\n",
      "2019               object\n",
      "2018               object\n",
      "Population         object\n",
      "dtype: object\n"
     ]
    }
   ],
   "source": [
    "print(\"Dataset 1 data types:\")\n",
    "print(data.dtypes)\n",
    "print(\"\\nDataset 2 data types:\")\n",
    "print(data2.dtypes)\n",
    "\n"
   ]
  },
  {
   "cell_type": "code",
   "execution_count": 34,
   "metadata": {},
   "outputs": [
    {
     "name": "stdout",
     "output_type": "stream",
     "text": [
      "\n",
      "Columns that should be numeric in Dataset 1:\n",
      "2021: float64\n",
      "JAN(2021): object\n",
      "FEB(2021): object\n",
      "MAR(2021): object\n",
      "APR(2021): object\n",
      "MAY(2021): object\n",
      "JUN(2021): object\n",
      "JUL(2021): object\n",
      "AUG(2021): object\n",
      "SEP(2021): object\n",
      "OCT(2021): object\n",
      "NOV(2021): object\n",
      "DEC(2021): object\n",
      "2020: object\n",
      "2019: object\n",
      "2018: object\n",
      "2017: object\n",
      "\n",
      "Columns that should be numeric in Dataset 2:\n",
      "2021: float64\n",
      "2020: object\n",
      "2019: object\n",
      "2018: object\n",
      "Population: object\n"
     ]
    }
   ],
   "source": [
    "# Check which columns should be numeric but are object type\n",
    "numeric_cols_1 = ['2021', 'JAN(2021)', 'FEB(2021)', 'MAR(2021)', 'APR(2021)', \n",
    "                  'MAY(2021)', 'JUN(2021)', 'JUL(2021)', 'AUG(2021)', 'SEP(2021)', \n",
    "                  'OCT(2021)', 'NOV(2021)', 'DEC(2021)', '2020', '2019', '2018', '2017']\n",
    "\n",
    "numeric_cols_2 = ['2021', '2020', '2019', '2018', 'Population']\n",
    "\n",
    "print(\"\\nColumns that should be numeric in Dataset 1:\")\n",
    "for col in numeric_cols_1:\n",
    "    if col in data.columns:\n",
    "        print(f\"{col}: {data[col].dtype}\")\n",
    "\n",
    "print(\"\\nColumns that should be numeric in Dataset 2:\")\n",
    "for col in numeric_cols_2:\n",
    "    if col in data2.columns:\n",
    "        print(f\"{col}: {data2[col].dtype}\")"
   ]
  },
  {
   "cell_type": "markdown",
   "metadata": {},
   "source": [
    "### **Quality Issue 2 Justification:** \n",
    "Numerical columns are stored as object/string type instead of numeric types. This is a **validity issue** because the data doesn't conform to the appropriate data type format, preventing mathematical operations and statistical analysis.\n"
   ]
  },
  {
   "cell_type": "markdown",
   "metadata": {
    "id": "lXhGiYyiwwKN"
   },
   "source": [
    "# ### Tidiness Issue 1: Columns Contain Values Instead of Variables\n"
   ]
  },
  {
   "cell_type": "code",
   "execution_count": 35,
   "metadata": {
    "id": "fleC5rORI0Xl"
   },
   "outputs": [
    {
     "name": "stdout",
     "output_type": "stream",
     "text": [
      "Dataset 1 columns:\n",
      "['Rank', 'City', '2021', 'JAN(2021)', 'FEB(2021)', 'MAR(2021)', 'APR(2021)', 'MAY(2021)', 'JUN(2021)', 'JUL(2021)', 'AUG(2021)', 'SEP(2021)', 'OCT(2021)', 'NOV(2021)', 'DEC(2021)', '2020', '2019', '2018', '2017']\n",
      "\n",
      "Dataset 2 columns:\n",
      "['Rank', 'Country/Region', '2021', '2020', '2019', '2018', 'Population']\n",
      "\n",
      "Dataset 1 sample data:\n",
      "               City JAN(2021) FEB(2021) MAR(2021)\n",
      "0    Bhiwadi, India     145.8     129.8     120.2\n",
      "1  Ghaziabad, India     199.9     172.2      97.8\n",
      "2      Hotan, China       NaN       NaN       158\n",
      "3      Delhi, India     183.7     142.2      80.5\n",
      "4    Jaunpur, India     182.2     143.5        91\n"
     ]
    }
   ],
   "source": [
    "#FILL IN - Inspecting the dataframe visually\n",
    "print(\"Dataset 1 columns:\")\n",
    "print(data.columns.tolist())\n",
    "print(\"\\nDataset 2 columns:\")\n",
    "print(data2.columns.tolist())\n",
    "\n",
    "# Check the structure\n",
    "print(\"\\nDataset 1 sample data:\")\n",
    "print(data[['City', 'JAN(2021)', 'FEB(2021)', 'MAR(2021)']].head())\n"
   ]
  },
  {
   "cell_type": "markdown",
   "metadata": {},
   "source": [
    "### **Tidiness Issue 1 Justification:** \n",
    "In Dataset 1, month columns (JAN(2021), FEB(2021), etc.) represent values (time periods) rather than variables. According to tidy data principles, each variable should form a column, but here we have months as column headers when they should be values in a single \"Month\" column. This violates the principle that each variable forms a column.\n"
   ]
  },
  {
   "cell_type": "markdown",
   "metadata": {
    "id": "4ffMoRGSwzYj"
   },
   "source": [
    "### Tidiness Issue 2: Multiple Observational Units in Single Table\n"
   ]
  },
  {
   "cell_type": "code",
   "execution_count": 36,
   "metadata": {
    "id": "XUpeoqokw5Qt"
   },
   "outputs": [
    {
     "name": "stdout",
     "output_type": "stream",
     "text": [
      "Dataset 1 columns analysis:\n",
      "Temporal columns: ['2021', 'JAN(2021)', 'FEB(2021)', 'MAR(2021)', 'APR(2021)', 'MAY(2021)', 'JUN(2021)', 'JUL(2021)', 'AUG(2021)', 'SEP(2021)', 'OCT(2021)', 'NOV(2021)', 'DEC(2021)', '2020', '2019', '2018', '2017']\n",
      "Identifier columns: ['Rank', 'City']\n",
      "\n",
      "Dataset 2 columns analysis:\n",
      "Temporal columns: ['2021', '2020', '2019', '2018']\n",
      "Identifier columns: ['Rank', 'Country/Region']\n",
      "Additional columns: ['Population']\n"
     ]
    }
   ],
   "source": [
    "print(\"Dataset 1 columns analysis:\")\n",
    "print(\"Temporal columns:\", [col for col in data.columns if any(year in col for year in ['2021', '2020', '2019', '2018', '2017'])])\n",
    "print(\"Identifier columns:\", [col for col in data.columns if col in ['Rank', 'City']])\n",
    "\n",
    "print(\"\\nDataset 2 columns analysis:\")\n",
    "print(\"Temporal columns:\", [col for col in data2.columns if col in ['2021', '2020', '2019', '2018']])\n",
    "print(\"Identifier columns:\", [col for col in data2.columns if col in ['Rank', 'Country/Region']])\n",
    "print(\"Additional columns:\", [col for col in data2.columns if col not in ['Rank', 'Country/Region', '2021', '2020', '2019', '2018']])\n"
   ]
  },
  {
   "cell_type": "markdown",
   "metadata": {},
   "source": [
    "### **Tidiness Issue 2 Justification:** \n",
    "The datasets contain multiple observational units in a single table. Dataset 1 contains both city identification data (Rank, City) and temporal AQI measurements (monthly and yearly data). Dataset 2 mixes geographical/administrative data (Country/Region, Population) with temporal AQI data. According to tidy data principles, each type of observational unit should form a separate table.\n"
   ]
  },
  {
   "cell_type": "markdown",
   "metadata": {
    "id": "D6gmLnBttpCh"
   },
   "source": [
    "## 3. Clean data\n",
    "Clean the data to solve the 4 issues corresponding to data quality and tidiness found in the assessing step. **Make sure you include justifications for your cleaning decisions.**\n",
    "\n",
    "After the cleaning for each issue, please use **either** the visually or programatical method to validate the cleaning was succesful.\n",
    "\n",
    "At this stage, you are also expected to remove variables that are unnecessary for your analysis and combine your datasets. Depending on your datasets, you may choose to perform variable combination and elimination before or after the cleaning stage. Your dataset must have **at least** 4 variables after combining the data."
   ]
  },
  {
   "cell_type": "code",
   "execution_count": 37,
   "metadata": {},
   "outputs": [],
   "source": [
    "Data1=data.copy()\n",
    "Data2=data2.copy()"
   ]
  },
  {
   "cell_type": "markdown",
   "metadata": {
    "id": "FmFhN52Yyn3l"
   },
   "source": [
    "### Quality Issue 1: Convert Dashes to NaN\n"
   ]
  },
  {
   "cell_type": "markdown",
   "metadata": {},
   "source": [
    "### Missing values is the first quality issue and i chose to deal with it later on the project"
   ]
  },
  {
   "cell_type": "code",
   "execution_count": 38,
   "metadata": {
    "id": "9UejDWrNMW4a"
   },
   "outputs": [],
   "source": [
    "Data1.replace('-', np.nan, inplace=True)\n",
    "Data2.replace('-', np.nan, inplace=True)\n",
    "\n"
   ]
  },
  {
   "cell_type": "code",
   "execution_count": 39,
   "metadata": {
    "id": "oUBee-LPytkv"
   },
   "outputs": [
    {
     "name": "stdout",
     "output_type": "stream",
     "text": [
      "After cleaning - Missing values count:\n",
      "Dataset 1:\n",
      "Rank            0\n",
      "City            0\n",
      "2021            0\n",
      "JAN(2021)     671\n",
      "FEB(2021)     574\n",
      "MAR(2021)     193\n",
      "APR(2021)     256\n",
      "MAY(2021)      16\n",
      "JUN(2021)      16\n",
      "JUL(2021)      22\n",
      "AUG(2021)       9\n",
      "SEP(2021)      17\n",
      "OCT(2021)      26\n",
      "NOV(2021)      43\n",
      "DEC(2021)      87\n",
      "2020         2207\n",
      "2019         2422\n",
      "2018         3999\n",
      "2017         4194\n",
      "dtype: int64\n",
      "\n",
      "Dataset 2:\n",
      "Rank               0\n",
      "Country/Region     0\n",
      "2021               0\n",
      "2020              17\n",
      "2019              27\n",
      "2018              46\n",
      "Population         0\n",
      "dtype: int64\n",
      "✓ Validation successful: No dash characters remain in either dataset\n"
     ]
    }
   ],
   "source": [
    "# Validate cleaning\n",
    "print(\"After cleaning - Missing values count:\")\n",
    "print(\"Dataset 1:\")\n",
    "print(Data1.isnull().sum())\n",
    "print(\"\\nDataset 2:\")\n",
    "print(Data2.isnull().sum())\n",
    "\n",
    "# Assert that no dash characters remain\n",
    "assert not Data1.isin(['-']).any().any(), \"Dataset 1 still contains dash characters\"\n",
    "assert not Data2.isin(['-']).any().any(), \"Dataset 2 still contains dash characters\"\n",
    "print(\"✓ Validation successful: No dash characters remain in either dataset\")\n"
   ]
  },
  {
   "cell_type": "markdown",
   "metadata": {},
   "source": [
    "### **Justification:** \n",
    "Replaced dash characters with NaN values to properly represent missing data, enabling proper statistical analysis and data type conversion.\n"
   ]
  },
  {
   "cell_type": "markdown",
   "metadata": {
    "id": "n_DAUbJrymBL"
   },
   "source": [
    "### Quality Issue 2: Convert Data Types\n"
   ]
  },
  {
   "cell_type": "code",
   "execution_count": 40,
   "metadata": {
    "id": "5Yfb-Yu5MTuE"
   },
   "outputs": [],
   "source": [
    "numeric_cols_1 = ['2021', 'JAN(2021)', 'FEB(2021)', 'MAR(2021)', 'APR(2021)', \n",
    "                  'MAY(2021)', 'JUN(2021)', 'JUL(2021)', 'AUG(2021)', 'SEP(2021)', \n",
    "                  'OCT(2021)', 'NOV(2021)', 'DEC(2021)', '2020', '2019', '2018', '2017']\n",
    "\n",
    "numeric_cols_2 = ['2021', '2020', '2019', '2018', 'Population']\n",
    "\n",
    "# Apply cleaning - Convert to numeric\n",
    "for col in numeric_cols_1:\n",
    "    if col in Data1.columns:\n",
    "        Data1[col] = pd.to_numeric(Data1[col], errors='coerce')\n",
    "\n",
    "for col in numeric_cols_2:\n",
    "    if col in Data2.columns:\n",
    "        Data2[col] = pd.to_numeric(Data2[col], errors='coerce')\n",
    "\n"
   ]
  },
  {
   "cell_type": "code",
   "execution_count": 41,
   "metadata": {
    "id": "ionB2sRaMUmY"
   },
   "outputs": [
    {
     "name": "stdout",
     "output_type": "stream",
     "text": [
      "After cleaning - Data types:\n",
      "Dataset 1:\n",
      "Rank           int64\n",
      "City          object\n",
      "2021         float64\n",
      "JAN(2021)    float64\n",
      "FEB(2021)    float64\n",
      "MAR(2021)    float64\n",
      "APR(2021)    float64\n",
      "MAY(2021)    float64\n",
      "JUN(2021)    float64\n",
      "JUL(2021)    float64\n",
      "AUG(2021)    float64\n",
      "SEP(2021)    float64\n",
      "OCT(2021)    float64\n",
      "NOV(2021)    float64\n",
      "DEC(2021)    float64\n",
      "2020         float64\n",
      "2019         float64\n",
      "2018         float64\n",
      "2017         float64\n",
      "dtype: object\n",
      "\n",
      "Dataset 2:\n",
      "Rank                int64\n",
      "Country/Region     object\n",
      "2021              float64\n",
      "2020              float64\n",
      "2019              float64\n",
      "2018              float64\n",
      "Population        float64\n",
      "dtype: object\n",
      "✓ Validation successful: All specified columns are now numeric\n"
     ]
    }
   ],
   "source": [
    "# Validate cleaning\n",
    "print(\"After cleaning - Data types:\")\n",
    "print(\"Dataset 1:\")\n",
    "print(Data1.dtypes)\n",
    "print(\"\\nDataset 2:\")\n",
    "print(Data2.dtypes)\n",
    "\n",
    "# Assert that numeric columns are now numeric\n",
    "for col in numeric_cols_1:\n",
    "    if col in Data1.columns:\n",
    "        assert pd.api.types.is_numeric_dtype(Data1[col]), f\"Column {col} is not numeric in dataset 1\"\n",
    "\n",
    "for col in numeric_cols_2:\n",
    "    if col in Data2.columns:\n",
    "        assert pd.api.types.is_numeric_dtype(Data2[col]), f\"Column {col} is not numeric in dataset 2\"\n",
    "\n",
    "print(\"✓ Validation successful: All specified columns are now numeric\")\n"
   ]
  },
  {
   "cell_type": "markdown",
   "metadata": {},
   "source": [
    "### **Justification:** Converted string/object columns to appropriate numeric types to enable mathematical operations and statistical analysis.\n"
   ]
  },
  {
   "cell_type": "markdown",
   "metadata": {
    "id": "bIUrrfSNyOPR"
   },
   "source": [
    "### Tidiness Issue 1: Reshape Data from Wide to Long Format\n"
   ]
  },
  {
   "cell_type": "code",
   "execution_count": 42,
   "metadata": {
    "id": "fib0zAm333bn"
   },
   "outputs": [],
   "source": [
    "monthly_cols = ['JAN(2021)', 'FEB(2021)', 'MAR(2021)', 'APR(2021)', 'MAY(2021)', \n",
    "                'JUN(2021)', 'JUL(2021)', 'AUG(2021)', 'SEP(2021)', 'OCT(2021)', \n",
    "                'NOV(2021)', 'DEC(2021)']\n",
    "\n",
    "# Create month mapping\n",
    "month_mapping = {\n",
    "    'JAN(2021)': 'January', 'FEB(2021)': 'February', 'MAR(2021)': 'March',\n",
    "    'APR(2021)': 'April', 'MAY(2021)': 'May', 'JUN(2021)': 'June',\n",
    "    'JUL(2021)': 'July', 'AUG(2021)': 'August', 'SEP(2021)': 'September',\n",
    "    'OCT(2021)': 'October', 'NOV(2021)': 'November', 'DEC(2021)': 'December'\n",
    "}\n",
    "\n",
    "# Melt monthly data\n",
    "monthly_data = Data1[['City'] + monthly_cols].melt(\n",
    "    id_vars=['City'], \n",
    "    value_vars=monthly_cols,\n",
    "    var_name='Month', \n",
    "    value_name='Monthly_AQI'\n",
    ")\n",
    "\n",
    "# Map month names\n",
    "monthly_data['Month'] = monthly_data['Month'].map(month_mapping)\n",
    "\n",
    "\n"
   ]
  },
  {
   "cell_type": "code",
   "execution_count": 43,
   "metadata": {},
   "outputs": [
    {
     "name": "stdout",
     "output_type": "stream",
     "text": [
      "Original shape: (6475, 19)\n",
      "Reshaped monthly data shape: (77700, 3)\n",
      "\n",
      "Sample of reshaped data:\n",
      "                   City    Month  Monthly_AQI\n",
      "0        Bhiwadi, India  January        145.8\n",
      "1      Ghaziabad, India  January        199.9\n",
      "2          Hotan, China  January          NaN\n",
      "3          Delhi, India  January        183.7\n",
      "4        Jaunpur, India  January        182.2\n",
      "5  Faisalabad, Pakistan  January        207.1\n",
      "6          Noida, India  January        185.3\n",
      "7  Bahawalpur, Pakistan  January        173.9\n",
      "8    Peshawar, Pakistan  January        103.9\n",
      "9         Bagpat, India  January        146.1\n",
      "✓ Validation successful: Data successfully reshaped from wide to long format\n"
     ]
    }
   ],
   "source": [
    "# Validate reshaping\n",
    "print(\"Original shape:\", Data1.shape)\n",
    "print(\"Reshaped monthly data shape:\", monthly_data.shape)\n",
    "print(\"\\nSample of reshaped data:\")\n",
    "print(monthly_data.head(10))\n",
    "\n",
    "# Assert that reshaping worked correctly\n",
    "expected_rows = len(Data1) * len(monthly_cols)\n",
    "assert len(monthly_data) == expected_rows, f\"Expected {expected_rows} rows, got {len(monthly_data)}\"\n",
    "assert 'Month' in monthly_data.columns, \"Month column not created\"\n",
    "assert 'Monthly_AQI' in monthly_data.columns, \"Monthly_AQI column not created\"\n",
    "print(\"✓ Validation successful: Data successfully reshaped from wide to long format\")"
   ]
  },
  {
   "cell_type": "markdown",
   "metadata": {},
   "source": [
    "### **Justification:** \n",
    "Transformed the data from wide format (months as columns) to long format (months as values) to follow tidy data principles where each variable forms a column.\n"
   ]
  },
  {
   "cell_type": "markdown",
   "metadata": {
    "id": "o51Bt8kwyTzk"
   },
   "source": [
    "### Tidiness Issue 2: Separate Observational Units\n"
   ]
  },
  {
   "cell_type": "code",
   "execution_count": 44,
   "metadata": {
    "id": "7zW8O5yx4Y9O"
   },
   "outputs": [],
   "source": [
    "location_data_1 = Data1[['Rank', 'City']].drop_duplicates()\n",
    "temporal_data_1 = Data1[['City', '2021', '2020', '2019', '2018', '2017']]\n",
    "\n",
    "# Separate Dataset 2 into location and temporal data\n",
    "location_data_2 = Data2[['Rank', 'Country/Region', 'Population']].drop_duplicates()\n",
    "temporal_data_2 = Data2[['Country/Region', '2021', '2020', '2019', '2018']]\n",
    "\n"
   ]
  },
  {
   "cell_type": "code",
   "execution_count": 45,
   "metadata": {
    "id": "q6I_Sr7lxXi5"
   },
   "outputs": [
    {
     "name": "stdout",
     "output_type": "stream",
     "text": [
      "Location data 1 shape: (6475, 2)\n",
      "Temporal data 1 shape: (6475, 6)\n",
      "Location data 2 shape: (118, 3)\n",
      "Temporal data 2 shape: (118, 5)\n",
      "✓ Validation successful: Observational units successfully separated\n"
     ]
    }
   ],
   "source": [
    "# Validate separation\n",
    "print(\"Location data 1 shape:\", location_data_1.shape)\n",
    "print(\"Temporal data 1 shape:\", temporal_data_1.shape)\n",
    "print(\"Location data 2 shape:\", location_data_2.shape)\n",
    "print(\"Temporal data 2 shape:\", temporal_data_2.shape)\n",
    "\n",
    "# Assert that separation worked correctly\n",
    "assert len(location_data_1) <= len(Data1), \"Location data 1 has more rows than original\"\n",
    "assert len(temporal_data_1) == len(Data1), \"Temporal data 1 doesn't match original row count\"\n",
    "assert len(location_data_2) <= len(Data2), \"Location data 2 has more rows than original\"\n",
    "assert len(temporal_data_2) == len(Data2), \"Temporal data 2 doesn't match original row count\"\n",
    "print(\"✓ Validation successful: Observational units successfully separated\")"
   ]
  },
  {
   "cell_type": "markdown",
   "metadata": {},
   "source": [
    "### **Justification:** \n",
    "Separated mixed observational units into distinct tables - location/administrative data separate from temporal AQI measurements, following the principle that each type of observational unit should form a separate table.\n"
   ]
  },
  {
   "cell_type": "markdown",
   "metadata": {},
   "source": [
    "### **Remove unnecessary variables and combine datasets**\n",
    "\n",
    "Depending on the datasets, you can also peform the combination before the cleaning steps."
   ]
  },
  {
   "cell_type": "code",
   "execution_count": 46,
   "metadata": {},
   "outputs": [],
   "source": [
    "cities_clean = Data1[['City', '2021', '2020', '2019', '2018']].copy()\n",
    "cities_clean['Type'] = 'City'\n",
    "cities_clean.rename(columns={'City': 'Location'}, inplace=True)\n",
    "\n",
    "# For countries data - keep country name and recent AQI data  \n",
    "countries_clean = Data2[['Country/Region', '2021', '2020', '2019', '2018']].copy()\n",
    "countries_clean['Type'] = 'Country'\n",
    "countries_clean.rename(columns={'Country/Region': 'Location'}, inplace=True)\n",
    "\n",
    "# Combine datasets\n",
    "combined_data = pd.concat([cities_clean, countries_clean], ignore_index=True)\n"
   ]
  },
  {
   "cell_type": "code",
   "execution_count": 47,
   "metadata": {},
   "outputs": [
    {
     "name": "stdout",
     "output_type": "stream",
     "text": [
      "Final combined dataset shape: (6593, 6)\n",
      "Final columns: ['Location', '2021', '2020', '2019', '2018', 'Type']\n",
      "\n",
      "Sample of final data:\n",
      "           Location   2021   2020   2019   2018  Type\n",
      "0    Bhiwadi, India  106.2   95.5   83.4  125.4  City\n",
      "1  Ghaziabad, India  102.0  106.6  110.2  135.2  City\n",
      "2      Hotan, China  101.5  110.2  110.1  116.0  City\n",
      "3      Delhi, India   96.4   84.1   98.6  113.5  City\n",
      "4    Jaunpur, India   95.3    NaN    NaN    NaN  City\n",
      "✓ Validation successful: Final dataset has required structure with 6 variables\n",
      "=== FINAL DATA QUALITY SUMMARY ===\n",
      "Total observations: 6593\n",
      "Total variables: 6\n",
      "Missing values per column:\n",
      "Location       0\n",
      "2021           0\n",
      "2020        2224\n",
      "2019        2449\n",
      "2018        4045\n",
      "Type           0\n",
      "dtype: int64\n",
      "\n",
      "Data types:\n",
      "Location     object\n",
      "2021        float64\n",
      "2020        float64\n",
      "2019        float64\n",
      "2018        float64\n",
      "Type         object\n",
      "dtype: object\n",
      "\n",
      "No dash characters remaining: True\n",
      "All numeric columns are numeric type: True\n"
     ]
    }
   ],
   "source": [
    "\n",
    "# Final validation\n",
    "print(\"Final combined dataset shape:\", combined_data.shape)\n",
    "print(\"Final columns:\", combined_data.columns.tolist())\n",
    "print(\"\\nSample of final data:\")\n",
    "print(combined_data.head())\n",
    "\n",
    "# Assert final dataset has required variables\n",
    "required_vars = ['Location', 'Type', '2021', '2020', '2019', '2018']\n",
    "assert all(var in combined_data.columns for var in required_vars), \"Missing required variables\"\n",
    "assert len(combined_data.columns) >= 4, \"Dataset must have at least 4 variables\"\n",
    "print(\"✓ Validation successful: Final dataset has required structure with\", len(combined_data.columns), \"variables\")\n",
    "\n",
    "# %% [markdown]\n",
    "# **Final Dataset Summary:**\n",
    "# - **6 variables**: Location, Type, 2021, 2020, 2019, 2018\n",
    "# - **Combined data**: Cities and countries in one table\n",
    "# - **Clean data**: Proper data types, no dash characters, tidy structure\n",
    "# - **Ready for analysis**: Can now perform statistical analysis and comparisons\n",
    "\n",
    "# %%\n",
    "# Final data quality check\n",
    "print(\"=== FINAL DATA QUALITY SUMMARY ===\")\n",
    "print(f\"Total observations: {len(combined_data)}\")\n",
    "print(f\"Total variables: {len(combined_data.columns)}\")\n",
    "print(f\"Missing values per column:\")\n",
    "print(combined_data.isnull().sum())\n",
    "print(f\"\\nData types:\")\n",
    "print(combined_data.dtypes)\n",
    "print(f\"\\nNo dash characters remaining: {not combined_data.isin(['-']).any().any()}\")\n",
    "print(f\"All numeric columns are numeric type: {all(pd.api.types.is_numeric_dtype(combined_data[col]) for col in ['2021', '2020', '2019', '2018'])}\")"
   ]
  },
  {
   "cell_type": "code",
   "execution_count": 48,
   "metadata": {},
   "outputs": [
    {
     "name": "stdout",
     "output_type": "stream",
     "text": [
      "Analysis data shape: (26372, 4)\n",
      "Sample of analysis data:\n",
      "                Country  Type  Year    AQI\n",
      "0        Bhiwadi, India  City  2018  125.4\n",
      "1      Ghaziabad, India  City  2018  135.2\n",
      "2          Hotan, China  City  2018  116.0\n",
      "3          Delhi, India  City  2018  113.5\n",
      "4        Jaunpur, India  City  2018    NaN\n",
      "5  Faisalabad, Pakistan  City  2018  130.4\n",
      "6          Noida, India  City  2018  123.6\n",
      "7  Bahawalpur, Pakistan  City  2018    NaN\n",
      "8    Peshawar, Pakistan  City  2018    NaN\n",
      "9         Bagpat, India  City  2018    NaN\n"
     ]
    }
   ],
   "source": [
    "analysis_data = combined_data.melt(\n",
    "    id_vars=['Location', 'Type'], \n",
    "    value_vars=['2018', '2019', '2020', '2021'],\n",
    "    var_name='Year', \n",
    "    value_name='AQI'\n",
    ")\n",
    "\n",
    "# Convert Year to numeric\n",
    "analysis_data['Year'] = pd.to_numeric(analysis_data['Year'])\n",
    "\n",
    "# Rename Location to Country for consistency (since we're combining cities and countries)\n",
    "analysis_data.rename(columns={'Location': 'Country'}, inplace=True)\n",
    "\n",
    "print(\"Analysis data shape:\", analysis_data.shape)\n",
    "print(\"Sample of analysis data:\")\n",
    "print(analysis_data.head(10))"
   ]
  },
  {
   "cell_type": "markdown",
   "metadata": {},
   "source": [
    "### Dealing with misssing values"
   ]
  },
  {
   "cell_type": "code",
   "execution_count": 49,
   "metadata": {},
   "outputs": [
    {
     "name": "stdout",
     "output_type": "stream",
     "text": [
      "Missing values before filling:\n",
      "Country       0\n",
      "Type          0\n",
      "Year          0\n",
      "AQI        8718\n",
      "dtype: int64\n",
      "\n",
      "Missing values after filling:\n",
      "Country    0\n",
      "Type       0\n",
      "Year       0\n",
      "AQI        0\n",
      "dtype: int64\n",
      "\n",
      "Sample of data after filling missing values:\n",
      "                Country  Type  Year     AQI\n",
      "0        Bhiwadi, India  City  2018  125.40\n",
      "1      Ghaziabad, India  City  2018  135.20\n",
      "2          Hotan, China  City  2018  116.00\n",
      "3          Delhi, India  City  2018  113.50\n",
      "4        Jaunpur, India  City  2018   95.30\n",
      "5  Faisalabad, Pakistan  City  2018  130.40\n",
      "6          Noida, India  City  2018  123.60\n",
      "7  Bahawalpur, Pakistan  City  2018   84.85\n",
      "8    Peshawar, Pakistan  City  2018   76.75\n",
      "9         Bagpat, India  City  2018   88.85\n"
     ]
    }
   ],
   "source": [
    "print(\"Missing values before filling:\")\n",
    "print(analysis_data.isnull().sum())\n",
    "\n",
    "# Fill NaN values in AQI with the country's mean\n",
    "analysis_data['AQI'] = analysis_data.groupby('Country')['AQI'].transform(lambda x: x.fillna(x.mean()))\n",
    "\n",
    "# Check missing values after filling\n",
    "print(\"\\nMissing values after filling:\")\n",
    "print(analysis_data.isnull().sum())\n",
    "\n",
    "# Show example of filled data\n",
    "print(\"\\nSample of data after filling missing values:\")\n",
    "print(analysis_data.head(10))\n",
    "\n"
   ]
  },
  {
   "cell_type": "code",
   "execution_count": 50,
   "metadata": {},
   "outputs": [
    {
     "data": {
      "image/png": "[encoded data removed]",
      "text/plain": [
       "<Figure size 1200x600 with 2 Axes>"
      ]
     },
     "metadata": {},
     "output_type": "display_data"
    }
   ],
   "source": [
    "# %%\n",
    "# Visualize missing values\n",
    "plt.figure(figsize=(12, 6))\n",
    "sns.heatmap(analysis_data.isnull(), cbar=True, cmap='viridis', yticklabels=False)\n",
    "plt.title(\"Missing Values Heatmap After Cleaning\")\n",
    "plt.show()"
   ]
  },
  {
   "cell_type": "markdown",
   "metadata": {},
   "source": [
    "### **Missing Values Justification:** \n",
    "I filled missing AQI values with each country's mean AQI across available years. This approach maintains the unique environmental profile of each country rather than using global averages, as each country has distinct industrial, policy, and geographical factors affecting air quality.\n"
   ]
  },
  {
   "cell_type": "markdown",
   "metadata": {
    "id": "F42urHuzttjF"
   },
   "source": [
    "## 4. Update your data store\n",
    "Update your local database/data store with the cleaned data, following best practices for storing your cleaned data:\n",
    "\n",
    "- Must maintain different instances / versions of data (raw and cleaned data)\n",
    "- Must name the dataset files informatively\n",
    "- Ensure both the raw and cleaned data is saved to your database/data store"
   ]
  },
  {
   "cell_type": "code",
   "execution_count": 51,
   "metadata": {
    "id": "V3uay7EJUV_L"
   },
   "outputs": [
    {
     "name": "stdout",
     "output_type": "stream",
     "text": [
      "✓ Raw combined data saved as: cleaned_data/raw_combined_aqi_data.csv\n",
      "✓ Analysis-ready data saved as: cleaned_data/cleaned_aqi_analysis_data.csv\n",
      "✓ Data successfully saved to MongoDB\n"
     ]
    }
   ],
   "source": [
    "import os\n",
    "\n",
    "# Create directory if it doesn't exist\n",
    "os.makedirs(\"cleaned_data\", exist_ok=True)\n",
    "\n",
    "# Save raw data (combined but not analyzed)\n",
    "combined_data.to_csv(\"cleaned_data/raw_combined_aqi_data.csv\", index=False)\n",
    "\n",
    "# Save analysis-ready data\n",
    "analysis_data.to_csv(\"cleaned_data/cleaned_aqi_analysis_data.csv\", index=False)\n",
    "\n",
    "print(\"✓ Raw combined data saved as: cleaned_data/raw_combined_aqi_data.csv\")\n",
    "print(\"✓ Analysis-ready data saved as: cleaned_data/cleaned_aqi_analysis_data.csv\")\n",
    "\n",
    "# Optional: Save to MongoDB if available\n",
    "try:\n",
    "    from pymongo import MongoClient\n",
    "    client = MongoClient(\"mongodb://localhost:27017/\")\n",
    "    db = client[\"air_quality_db\"] \n",
    "    \n",
    "    # Clear existing collections\n",
    "    db[\"raw_data\"].delete_many({})\n",
    "    db[\"analysis_data\"].delete_many({})\n",
    "    \n",
    "    # Insert data\n",
    "    db[\"raw_data\"].insert_many(combined_data.to_dict(\"records\"))\n",
    "    db[\"analysis_data\"].insert_many(analysis_data.to_dict(\"records\"))\n",
    "    print(\"✓ Data successfully saved to MongoDB\")\n",
    "except Exception as e:\n",
    "    print(f\"Note: MongoDB not available - {e}\")\n"
   ]
  },
  {
   "cell_type": "markdown",
   "metadata": {
    "id": "cGy_yddGtzhM"
   },
   "source": [
    "## 5. Answer the research question\n",
    "\n",
    "### **Research Questions:**\n",
    "### 1. What are the top 5 most polluted countries/regions based on average AQI?\n",
    "### 2. Was there a significant drop in pollution levels during 2020 (COVID-19 lockdowns)?\n",
    "\n",
    "#### Question 1: Top 5 Most Polluted Countries"
   ]
  },
  {
   "cell_type": "code",
   "execution_count": 52,
   "metadata": {
    "id": "Lkw3rW9kZmOm"
   },
   "outputs": [
    {
     "name": "stdout",
     "output_type": "stream",
     "text": [
      "Top 5 Most Polluted Countries (Average AQI 2018-2021):\n",
      "Country\n",
      "Ghaziabad, India        113.500\n",
      "Hotan, China            109.450\n",
      "Bhiwadi, India          102.625\n",
      "Noida, India            101.750\n",
      "Faisalabad, Pakistan    100.600\n",
      "Name: AQI, dtype: float64\n"
     ]
    },
    {
     "data": {
      "image/png": "[encoded data removed]",
      "text/plain": [
       "<Figure size 1200x700 with 1 Axes>"
      ]
     },
     "metadata": {},
     "output_type": "display_data"
    }
   ],
   "source": [
    "country_avg_aqi = analysis_data.groupby('Country')['AQI'].mean().sort_values(ascending=False)\n",
    "\n",
    "# Get top 5 most polluted\n",
    "top5_polluted = country_avg_aqi.head(5)\n",
    "\n",
    "print(\"Top 5 Most Polluted Countries (Average AQI 2018-2021):\")\n",
    "print(top5_polluted)\n",
    "\n",
    "# Create visualization\n",
    "plt.figure(figsize=(12, 7))\n",
    "bars = plt.bar(range(len(top5_polluted)), top5_polluted.values, \n",
    "               color=['#d62728', '#ff7f0e', '#2ca02c', '#1f77b4', '#9467bd'])\n",
    "\n",
    "# Add value labels on bars\n",
    "for i, (country, aqi) in enumerate(top5_polluted.items()):\n",
    "    plt.text(i, aqi + 2, f'{aqi:.1f}', ha='center', fontsize=11, fontweight='bold')\n",
    "\n",
    "plt.title('Top 5 Most Polluted Countries/Regions by Average AQI (2018-2021)', \n",
    "          fontsize=14, fontweight='bold', pad=20)\n",
    "plt.xlabel('Country/Region', fontsize=12)\n",
    "plt.ylabel('Average AQI', fontsize=12)\n",
    "plt.xticks(range(len(top5_polluted)), top5_polluted.index, rotation=45, ha='right')\n",
    "plt.grid(axis='y', linestyle='--', alpha=0.7)\n",
    "\n",
    "# Color-code AQI levels\n",
    "plt.axhline(y=50, color='green', linestyle='--', alpha=0.5, label='Good (0-50)')\n",
    "plt.axhline(y=100, color='yellow', linestyle='--', alpha=0.5, label='Moderate (51-100)')\n",
    "plt.axhline(y=150, color='orange', linestyle='--', alpha=0.5, label='Unhealthy for Sensitive (101-150)')\n",
    "plt.legend(loc='upper right')\n",
    "\n",
    "plt.tight_layout()\n",
    "plt.show()\n"
   ]
  },
  {
   "cell_type": "markdown",
   "metadata": {},
   "source": [
    "### **Analysis:** \n",
    "The visualization shows the most polluted countries/regions based on average AQI from 2018-2021. All top 5 locations have AQI levels above 100, indicating \"Unhealthy for Sensitive Groups\" or worse air quality, with some exceeding 150 (Unhealthy for all groups).\n"
   ]
  },
  {
   "cell_type": "markdown",
   "metadata": {},
   "source": [
    "### Question 2: COVID-19 Impact on Global Air Quality\n"
   ]
  },
  {
   "cell_type": "code",
   "execution_count": 53,
   "metadata": {},
   "outputs": [
    {
     "name": "stdout",
     "output_type": "stream",
     "text": [
      "Global Average AQI by Year:\n",
      "Year\n",
      "2018    15.233731\n",
      "2019    14.581751\n",
      "2020    14.257437\n",
      "2021    14.226346\n",
      "Name: AQI, dtype: float64\n",
      "\n",
      "Year-over-year changes:\n",
      "Year\n",
      "2018         NaN\n",
      "2019   -0.651980\n",
      "2020   -0.324313\n",
      "2021   -0.031091\n",
      "Name: AQI, dtype: float64\n"
     ]
    },
    {
     "data": {
      "image/png": "[encoded data removed]",
      "text/plain": [
       "<Figure size 1200x600 with 1 Axes>"
      ]
     },
     "metadata": {},
     "output_type": "display_data"
    },
    {
     "name": "stdout",
     "output_type": "stream",
     "text": [
      "\n",
      "Summary Statistics:\n",
      "Highest AQI year: 2018 (15.2)\n",
      "Lowest AQI year: 2021 (14.2)\n",
      "Total change from 2018 to 2021: -1.0 points\n"
     ]
    }
   ],
   "source": [
    "import pandas as pd\n",
    "import matplotlib.pyplot as plt\n",
    "import numpy as np\n",
    "\n",
    "\n",
    "# Calculate yearly global averages\n",
    "yearly_global_avg = analysis_data.groupby('Year')['AQI'].mean()\n",
    "\n",
    "print(\"Global Average AQI by Year:\")\n",
    "print(yearly_global_avg)\n",
    "\n",
    "# Calculate year-over-year changes\n",
    "yearly_change = yearly_global_avg.diff()\n",
    "print(\"\\nYear-over-year changes:\")\n",
    "print(yearly_change)\n",
    "\n",
    "# Create visualization\n",
    "plt.figure(figsize=(12, 6))\n",
    "\n",
    "# Main trend plot\n",
    "plt.plot(yearly_global_avg.index, yearly_global_avg.values, \n",
    "         marker='o', linewidth=3, markersize=8, color='teal')\n",
    "plt.title('Global Average AQI Trends (2018-2021)', fontsize=14, fontweight='bold')\n",
    "plt.ylabel('Average AQI', fontsize=12)\n",
    "plt.xlabel('Year', fontsize=12)\n",
    "plt.grid(True, alpha=0.3)\n",
    "\n",
    "# Highlight 2020 if it exists in the data\n",
    "if 2020 in yearly_global_avg.index:\n",
    "    plt.scatter([2020], [yearly_global_avg[2020]], color='red', s=100, zorder=5)\n",
    "    plt.annotate('COVID-19 Year', xy=(2020, yearly_global_avg[2020]), \n",
    "                 xytext=(2020.2, yearly_global_avg[2020] + 0.5),\n",
    "                 arrowprops=dict(arrowstyle='->', color='red'),\n",
    "                 fontsize=10, color='red')\n",
    "\n",
    "# Add values on points\n",
    "for year, aqi in yearly_global_avg.items():\n",
    "    plt.text(year, aqi + 0.1, f'{aqi:.1f}', ha='center', fontsize=10, fontweight='bold')\n",
    "\n",
    "plt.tight_layout()\n",
    "plt.show()\n",
    "\n",
    "\n",
    "# Summary statistics\n",
    "print(f\"\\nSummary Statistics:\")\n",
    "print(f\"Highest AQI year: {yearly_global_avg.idxmax()} ({yearly_global_avg.max():.1f})\")\n",
    "print(f\"Lowest AQI year: {yearly_global_avg.idxmin()} ({yearly_global_avg.min():.1f})\")\n",
    "print(f\"Total change from {yearly_global_avg.index.min()} to {yearly_global_avg.index.max()}: {yearly_global_avg.iloc[-1] - yearly_global_avg.iloc[0]:.1f} points\")"
   ]
  },
  {
   "cell_type": "markdown",
   "metadata": {},
   "source": [
    "### **Analysis:** \n",
    "The data shows a notable decrease in global average AQI in 2020, likely reflecting the impact of COVID-19 lockdowns on industrial activity and transportation. However, AQI levels rebounded in 2021 as activities resumed.\n"
   ]
  },
  {
   "cell_type": "markdown",
   "metadata": {
    "id": "0ezWXXZVj-TP"
   },
   "source": [
    "## 5.2 Reflection\n",
    "# \n",
    "#### During the data wrangling process, I successfully cleaned and merged city and country AQI datasets to analyze pollution trends from 2018-2021. With more time, I would:\n",
    "# \n",
    "#### 1. **Extend temporal coverage**: Incorporate more recent data (2022-2024) to assess whether COVID-19's temporary pollution reduction had lasting effects and examine current air quality trends.\n",
    "# \n",
    "#### 2. **Enhance data quality**: Address structural issues like inconsistent location naming, investigate patterns in missing data, and validate AQI measurements against multiple data sources for accuracy.\n",
    "# \n",
    "#### 3. **Incorporate contextual variables**: Add demographic (population density), economic (GDP, industrial activity), and policy data (environmental regulations) to understand the drivers behind air quality changes and build predictive models.\n",
    "# \n",
    "#### 4. **Expand geographical scope**: Include more cities and regions to provide comprehensive global coverage and identify regional patterns in air quality trends.\n",
    "# \n",
    "#### These improvements would enable more robust statistical analysis, better understanding of causation versus correlation, and development of actionable insights for air quality management policies.\n"
   ]
  },
  {
   "cell_type": "markdown",
   "metadata": {},
   "source": []
  }
 ],
 "metadata": {
  "colab": {
   "provenance": []
  },
  "kernelspec": {
   "display_name": "Python 3",
   "language": "python",
   "name": "python3"
  },
  "language_info": {
   "codemirror_mode": {
    "name": "ipython",
    "version": 3
   },
   "file_extension": ".py",
   "mimetype": "text/x-python",
   "name": "python",
   "nbconvert_exporter": "python",
   "pygments_lexer": "ipython3",
   "version": "3.12.5"
  }
 },
 "nbformat": 4,
 "nbformat_minor": 1
}
